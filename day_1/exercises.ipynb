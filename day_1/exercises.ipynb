{
 "cells": [
  {
   "cell_type": "code",
   "execution_count": 12,
   "id": "b8d7a00a",
   "metadata": {
    "slideshow": {
     "slide_type": "skip"
    }
   },
   "outputs": [],
   "source": [
    "from IPython import display"
   ]
  },
  {
   "cell_type": "markdown",
   "id": "e986c81f-fa31-41cd-b963-b64c15724fe4",
   "metadata": {
    "slideshow": {
     "slide_type": "slide"
    }
   },
   "source": [
    "# What to expect from the Python lessons\n",
    "- Get you started with python through a little project\n",
    "- Showcase relevant use cases of python for exploratory data analysis \n",
    "- Provide you with exercises during and after the lessons so that you practice and experience python\n",
    "- Provide you with good reads to develop further the wonderful craft of programming"
   ]
  },
  {
   "cell_type": "markdown",
   "id": "9510d219-1bc5-4ac2-aea4-89423d8878d5",
   "metadata": {
    "slideshow": {
     "slide_type": "subslide"
    }
   },
   "source": [
    "# Coding project  introduction\n",
    "\n",
    "We will work with hypothetical clynical trial data about a drug that aims to reduce arthritis inflammation.\n",
    "The data analysis goal is to assess the effectiveness of the treament and inform the clynical trial with data visualization taking advantage of interactive notebooks.\n",
    "\n",
    "More details on this later ;)\n"
   ]
  },
  {
   "cell_type": "markdown",
   "id": "0abf8d36",
   "metadata": {
    "slideshow": {
     "slide_type": "subslide"
    },
    "tags": []
   },
   "source": [
    "## Software Carpentry - Python part 1\n",
    "\n",
    "12:45 - 0.Introduction to Jupyter notebooks  \n",
    "13:00 - 1.Python fundamentals    \n",
    "13:45 - Exercises in Breakout Room  \n",
    "\n",
    "**14:00 - Coffee break** \n",
    "\n",
    "14:15 - 2.Loading data    \n",
    "14:45 - 3.Visualizing data \n",
    "\n",
    "**15:30 - Coffee break**  \n",
    "\n",
    "15:45 - 4.Repeating actions    \n",
    "16:30 - Exercises in Breakout Room  \n",
    "16:50 - Wrap up  "
   ]
  },
  {
   "cell_type": "markdown",
   "id": "4901e6bc-c404-4049-8ab9-f2fe4df3749b",
   "metadata": {
    "slideshow": {
     "slide_type": "subslide"
    }
   },
   "source": [
    "# Quick tour to Anaconda (Individual edition)\n",
    "\n",
    "\"**Your data science toolkit**: With over 25 million users worldwide, the open-source Individual Edition (Distribution) is the easiest way to perform Python/R data science and machine learning on a single machine. Developed for solo practitioners, it is the toolkit that equips you to work with thousands of open-source packages and libraries.\"\n",
    "\n",
    "https://www.anaconda.com/products/individual"
   ]
  },
  {
   "cell_type": "markdown",
   "id": "eda86e59",
   "metadata": {
    "slideshow": {
     "slide_type": "subslide"
    }
   },
   "source": [
    "## Anaconda installation comes with:\n",
    "* Latest version of Python\n",
    "* JupyterLab, Jupyter notebooks and several other IDE options\n",
    "* An easy-to-install collection of high performance Python libraries\n",
    "* Conda, tool for managing packages and environments\n",
    "* Collection of open source packages and tools to install over 1.5k additional packages\n",
    "* Anaconda Navigator is a graphical user interface to the conda package and environment manager and a free scientific-computing environment."
   ]
  },
  {
   "cell_type": "markdown",
   "id": "2858da1e",
   "metadata": {
    "slideshow": {
     "slide_type": "subslide"
    }
   },
   "source": [
    "# Let's open up a jupyter notebook!\n",
    "\n",
    "## Method 1: Anaconda Navigator\n",
    "\n"
   ]
  },
  {
   "cell_type": "markdown",
   "id": "2da389f2",
   "metadata": {},
   "source": [
    "## Method 2: Terminal"
   ]
  },
  {
   "cell_type": "markdown",
   "id": "c08f60dd",
   "metadata": {
    "slideshow": {
     "slide_type": "fragment"
    }
   },
   "source": [
    "Open notebook example: [Gravitational Wave Open Science Center](https://mybinder.org/v2/gh/losc-tutorial/quickview/master?filepath=index.ipynb)"
   ]
  },
  {
   "cell_type": "markdown",
   "id": "65965bde",
   "metadata": {},
   "source": [
    "# Why are we using notebooks instead of an IDE like Spyder\n",
    "\n",
    "- Storytelling with documented and re-executable analysis\n",
    "- Great for exploring libraries, commands and code snippets\n",
    "- Persistence of code snippets you want to reuse and try compared to a terminal or ipython.\n",
    "\n"
   ]
  },
  {
   "cell_type": "code",
   "execution_count": 13,
   "id": "a389dbec",
   "metadata": {},
   "outputs": [
    {
     "name": "stdout",
     "output_type": "stream",
     "text": [
      "Hello Jose\n"
     ]
    }
   ],
   "source": [
    "# This is a code snippet\n",
    "def say_hello(your_name):    # define say_hello function\n",
    "    print('Hello ' + your_name)\n",
    "\n",
    "say_hello('Jose') # Here we call the function"
   ]
  },
  {
   "cell_type": "markdown",
   "id": "192b6666",
   "metadata": {},
   "source": [
    "## Dont confuse the interactive notebook documents  with the \"jupyter notebook\" application\n",
    "- The first one is a document format that you can find with an `.ipynb` file extension\n",
    "- The second is an application where you can use such documents\n",
    "- Interactive notebooks or `ipynb`s are very related to `.ipython`an interactive shell."
   ]
  },
  {
   "cell_type": "markdown",
   "id": "8c0c6254",
   "metadata": {},
   "source": [
    "Open notebook example: [Gravitational Wave Open Science Center](https://mybinder.org/v2/gh/losc-tutorial/quickview/master?filepath=index.ipynb)"
   ]
  },
  {
   "cell_type": "markdown",
   "id": "59e7dd18",
   "metadata": {},
   "source": [
    "# 1. Python fundamentals"
   ]
  },
  {
   "cell_type": "markdown",
   "id": "19468599",
   "metadata": {
    "slideshow": {
     "slide_type": "subslide"
    }
   },
   "source": [
    "## Lets get started with python and see what it can do \n",
    "- Open your jupyter notebook application \n",
    "- Go to `day_1/` directory and open the `exercises.ipynb` notebook.\n"
   ]
  },
  {
   "cell_type": "markdown",
   "id": "b50454a6",
   "metadata": {
    "slideshow": {
     "slide_type": "fragment"
    }
   },
   "source": [
    "### How to use the `exercises.ipynb`\n",
    "\n",
    "- Lets write our first code snippet in a cell\n",
    "- Lets execute code (pressing run or pressing `Shift + Enter`)\n",
    "- Lets write some markdown in another cell"
   ]
  },
  {
   "cell_type": "code",
   "execution_count": 14,
   "id": "a04d4192",
   "metadata": {
    "slideshow": {
     "slide_type": "fragment"
    }
   },
   "outputs": [],
   "source": [
    "# Write your first code snippet"
   ]
  },
  {
   "cell_type": "code",
   "execution_count": 15,
   "id": "5f4598f3",
   "metadata": {
    "slideshow": {
     "slide_type": "fragment"
    }
   },
   "outputs": [],
   "source": [
    "# Write your first markdown cell"
   ]
  },
  {
   "cell_type": "markdown",
   "id": "aa44ce12",
   "metadata": {
    "slideshow": {
     "slide_type": "slide"
    },
    "tags": []
   },
   "source": [
    "# Things you should know about python for Today\n",
    "* Easy to code, It is a very easy to learn language.\n",
    "* It has a lot of reusable code that allows you to do powerful things (libraries)\n",
    "* High-Level, when we write python code you dont have to remember systems architecture\n",
    "* Open source and highly extendable!\n",
    "* Indentation and spaces make a difference\n",
    "\n"
   ]
  },
  {
   "cell_type": "code",
   "execution_count": 16,
   "id": "e1530e33",
   "metadata": {
    "slideshow": {
     "slide_type": "subslide"
    }
   },
   "outputs": [
    {
     "ename": "IndentationError",
     "evalue": "expected an indented block (<ipython-input-16-841e56b83f67>, line 6)",
     "output_type": "error",
     "traceback": [
      "\u001b[0;36m  File \u001b[0;32m\"<ipython-input-16-841e56b83f67>\"\u001b[0;36m, line \u001b[0;32m6\u001b[0m\n\u001b[0;31m    print(name)\u001b[0m\n\u001b[0m    ^\u001b[0m\n\u001b[0;31mIndentationError\u001b[0m\u001b[0;31m:\u001b[0m expected an indented block\n"
     ]
    }
   ],
   "source": [
    "# In this snippet we demonstrate how indentation works in python\n",
    "names = ['Curie', 'Darwin', 'Turing']\n",
    "\n",
    "\n",
    "for name in names:\n",
    "print(name)"
   ]
  },
  {
   "cell_type": "markdown",
   "id": "4bec7323",
   "metadata": {
    "slideshow": {
     "slide_type": "subslide"
    }
   },
   "source": [
    "## Variables and data types in python\n",
    "Create variables to describe patient characteristics:\n",
    "- Patient identifier\n",
    "- Patient name\n",
    "- Age\n",
    "- Weight\n",
    "- Specificatin of inflammations status (is inflammated, is not inflammated)"
   ]
  },
  {
   "cell_type": "code",
   "execution_count": null,
   "id": "374d609e",
   "metadata": {
    "slideshow": {
     "slide_type": "-"
    }
   },
   "outputs": [],
   "source": [
    "# Demonstrate multiple assignment with two patient names"
   ]
  },
  {
   "cell_type": "code",
   "execution_count": null,
   "id": "dd51680c",
   "metadata": {
    "slideshow": {
     "slide_type": "subslide"
    }
   },
   "outputs": [],
   "source": [
    "# Demonstrate variables valid and invalid names \n",
    "# Examples 1_patient vs patient_1\n",
    "\n",
    "## patient name = \"Peter Pan\"   # This will not work\n",
    "## 1_patient_name = \"Peter Pan\" # This will not work\n",
    "\n",
    "# Trying data types\n",
    "\n",
    "# Try integer type with patient_1 age\n",
    "\n",
    "# Try floating points with patient's weight\n",
    "\n",
    "# a patient_id string\n",
    "\n",
    "# Boolean, does patient \"x\" has had inflammation?\n",
    "\n",
    "# Get information about data types using a built in function\n"
   ]
  },
  {
   "cell_type": "markdown",
   "id": "de1f4f8d",
   "metadata": {
    "slideshow": {
     "slide_type": "subslide"
    }
   },
   "source": [
    "# Combining everything we have learned into a patients dataset\n",
    "- We will create a list of patients\n",
    "- And start populating and manipulating that list with python"
   ]
  },
  {
   "cell_type": "code",
   "execution_count": null,
   "id": "ca06c081",
   "metadata": {
    "slideshow": {
     "slide_type": "subslide"
    }
   },
   "outputs": [],
   "source": [
    "# Working with lists data types\n",
    "# First lets make an empty list\n",
    "\n",
    "# Lets populate the list with our previous values assigned to the patients variables\n",
    "\n",
    "# Grouping more data points per patient, we only have names\n",
    "\n",
    "# A patients list with different data points per patient\n",
    "\n",
    "# Demonstrate a two dimensional list: [[], [], []]\n"
   ]
  },
  {
   "cell_type": "code",
   "execution_count": null,
   "id": "011788aa",
   "metadata": {
    "slideshow": {
     "slide_type": "subslide"
    }
   },
   "outputs": [],
   "source": [
    "# Organizing the same data using dictionaries\n",
    "\n",
    "# Manipulating a list and adding entries to the list"
   ]
  },
  {
   "cell_type": "markdown",
   "id": "f7e8f130",
   "metadata": {
    "slideshow": {
     "slide_type": "subslide"
    }
   },
   "source": [
    "# What have we done so far?\n",
    "- We know how to assign different data types to different values\n",
    "- We know how to compose more complex data types by aggregating the basic data types or primitive data types\n",
    "- We can use the notebook now to play around and try code snippets\n",
    "- We know how to use `print()` python builtin function to interact display results as outputs"
   ]
  },
  {
   "cell_type": "markdown",
   "id": "496686cc",
   "metadata": {
    "slideshow": {
     "slide_type": "subslide"
    }
   },
   "source": [
    "# Lets put everything we have learned together into a little app to enter patients data into a list\n",
    "\n",
    "- We will introduce 4 patients to the patients list\n",
    "- Try to stick to the same names I am using..."
   ]
  },
  {
   "cell_type": "code",
   "execution_count": null,
   "id": "896ac193",
   "metadata": {
    "slideshow": {
     "slide_type": "fragment"
    }
   },
   "outputs": [],
   "source": [
    "# We can use input like this\n",
    "# patient_name = input()"
   ]
  },
  {
   "cell_type": "code",
   "execution_count": null,
   "id": "13ff5739",
   "metadata": {
    "slideshow": {
     "slide_type": "subslide"
    }
   },
   "outputs": [],
   "source": [
    "# Lets clear our list again and start using the input() to populate the list\n",
    "# patients = []"
   ]
  },
  {
   "cell_type": "code",
   "execution_count": 17,
   "id": "a5990e7a",
   "metadata": {
    "slideshow": {
     "slide_type": "subslide"
    }
   },
   "outputs": [],
   "source": [
    "# Create a patient id\n",
    "\n",
    "# Using the input() function:    \n",
    "# Enter patients name and add the entry to patients list\n",
    "\n",
    "# Enter patients age and add the entry to patients list\n",
    "\n",
    "# Enter patients weight and add the entry to patients list\n",
    "\n",
    "# Specify if patient was inflammated\n",
    "\n",
    "## Lets run the cell 4 times to get a dummy dataset"
   ]
  },
  {
   "cell_type": "code",
   "execution_count": null,
   "id": "f33b5153",
   "metadata": {
    "slideshow": {
     "slide_type": "subslide"
    }
   },
   "outputs": [],
   "source": [
    "# Saving the data into a csv vile\n",
    "# There are more efficient ways to do this but this is better for demonstration purposes\n",
    "import csv\n",
    "\n",
    "# open the file in the write mode\n",
    "f = open('./my_patients.data', 'w')\n",
    "\n",
    "# create the csv writer\n",
    "writer = csv.writer(f)\n",
    "\n",
    "# write a row to the csv file\n",
    "writer.writerow(data)\n",
    "\n",
    "# close the file\n",
    "f.close()"
   ]
  },
  {
   "cell_type": "code",
   "execution_count": null,
   "id": "c17596d1",
   "metadata": {},
   "outputs": [],
   "source": [
    "# Check and read the file we created\n",
    "f = open('./my_patient.csv', encoding='UTF8')\n",
    "csv_reader = csv.reader(f)\n",
    "\n",
    "for line in csv_reader:\n",
    "    print(line)"
   ]
  },
  {
   "cell_type": "markdown",
   "id": "5575b4f1",
   "metadata": {
    "slideshow": {
     "slide_type": "subslide"
    }
   },
   "source": [
    "# Checking data types to store data according to our original specifications"
   ]
  },
  {
   "cell_type": "code",
   "execution_count": null,
   "id": "0b65b3db",
   "metadata": {},
   "outputs": [],
   "source": [
    "# Lets check the types and see if the the data complies with requirements we have defined upfront\n",
    "\n",
    "# Another way of checking with the == operator\n",
    "\n",
    "# Do it with a for loop to inspect the data\n"
   ]
  },
  {
   "cell_type": "markdown",
   "id": "9564ca3e",
   "metadata": {
    "slideshow": {
     "slide_type": "subslide"
    }
   },
   "source": [
    "## Here we have a problem of types that dont match what we defined at the beginning\n",
    "- Age should be an integer\n",
    "- Weight should be a float\n",
    "- And is_inflammated should be a boolean type\n",
    "\n",
    "Hold this issue, we will come back to it later ;)"
   ]
  },
  {
   "cell_type": "markdown",
   "id": "dec79f2d",
   "metadata": {
    "slideshow": {
     "slide_type": "slide"
    }
   },
   "source": [
    "# Breakout Session 1"
   ]
  },
  {
   "cell_type": "markdown",
   "id": "0868f47a",
   "metadata": {},
   "source": [
    "# Exercise 1 - Slicing strings\n",
    "A section of an array is called a _slice_. We can take slices of character strings as well:"
   ]
  },
  {
   "cell_type": "code",
   "execution_count": null,
   "id": "0ae2efa7",
   "metadata": {},
   "outputs": [],
   "source": [
    "element = \"oxygen\"\n",
    "print('first three characters:', element[0:3])\n",
    "print('last three characters:', element[3:6])"
   ]
  },
  {
   "cell_type": "markdown",
   "id": "94402746",
   "metadata": {},
   "source": [
    "What is the value of `element[4]`? What about `element[4:]`? Or `element[:]`?\n",
    "What is `element[-1]`? What is `element[-3:]`?"
   ]
  },
  {
   "cell_type": "code",
   "execution_count": 19,
   "id": "b8362e96",
   "metadata": {},
   "outputs": [],
   "source": [
    "# Your solution"
   ]
  },
  {
   "cell_type": "markdown",
   "id": "2f4003eb",
   "metadata": {},
   "source": [
    "# Excercise 2 - Slicing lists with steps\n",
    "\n",
    "So far we’ve seen how to use slicing to take single blocks of successive entries from a sequence. But what if we want to take a subset of entries that aren’t next to each other in the sequence? You can achieve this by providing a third argument to the range within the brackets, called the step size. \n",
    "\n",
    "The full sytax for creating slices is `[begin:end:step]`, although you most often find a short-hand notation as we've seen in Exercise 1. \n",
    "\n",
    "The example below shows how you can take every third entry in a list:"
   ]
  },
  {
   "cell_type": "code",
   "execution_count": 20,
   "id": "8e487177",
   "metadata": {},
   "outputs": [
    {
     "name": "stdout",
     "output_type": "stream",
     "text": [
      "subset [2, 7, 17, 29]\n"
     ]
    }
   ],
   "source": [
    "primes = [2, 3, 5, 7, 11, 13, 17, 19, 23, 29, 31, 37]\n",
    "subset = primes[0:12:3]\n",
    "print('subset', subset)"
   ]
  },
  {
   "cell_type": "markdown",
   "id": "e00263a7",
   "metadata": {},
   "source": [
    "Given the following list of months:"
   ]
  },
  {
   "cell_type": "code",
   "execution_count": 21,
   "id": "103ab88b",
   "metadata": {},
   "outputs": [],
   "source": [
    "months = ['jan', 'feb', 'mar', 'apr', 'may', 'jun', 'jul', 'aug', 'sep', 'oct', 'nov', 'dec']"
   ]
  },
  {
   "cell_type": "markdown",
   "id": "43e1a423",
   "metadata": {},
   "source": [
    "### Questions\n",
    "\n",
    "1. What slice of `months` will produce the following output `['jan', 'mar', 'may', 'jul', 'sep', nov']`?\n",
    "\n",
    "1. Given the short-hand notation we used for the character string in Exercise 1 (i.e. `element[:2] == 'element[0:2]`), can you find the short-hand notation for question 1? What do you find easier to read?\n",
    "\n",
    "1. Using the step size parameter, can you think of a way to reverse the list?"
   ]
  },
  {
   "cell_type": "code",
   "execution_count": 22,
   "id": "2ee11ca9",
   "metadata": {},
   "outputs": [],
   "source": [
    "# Your solution"
   ]
  },
  {
   "cell_type": "markdown",
   "id": "0b55174a",
   "metadata": {
    "slideshow": {
     "slide_type": "slide"
    }
   },
   "source": [
    "# Back to our code project: analysing patient data\n",
    "\n",
    "\n",
    "### Arthritis Inflammation\n",
    "\n",
    "We are studying inflammation in patients who have been given a new treatment for arthritis.\n",
    "\n",
    "There are 60 patients, who had their inflammation levels recorded for 40 days. We want to analyze these recordings to study the effect of the new arthritis treatment.\n",
    "\n",
    "To see how the treatment is affecting the patients in general, we would like to:\n",
    "\n",
    "1. Calculate the average inflammation per day across all patients.\n",
    "1. Plot the result to discuss and share with colleagues."
   ]
  },
  {
   "cell_type": "code",
   "execution_count": 23,
   "id": "d936313b",
   "metadata": {
    "slideshow": {
     "slide_type": "subslide"
    }
   },
   "outputs": [
    {
     "data": {
      "image/png": "[encoded data removed]",
      "text/plain": [
       "<IPython.core.display.Image object>"
      ]
     },
     "execution_count": 23,
     "metadata": {},
     "output_type": "execute_result"
    }
   ],
   "source": [
    "display.Image(\"../img/lesson-overview.png\")"
   ]
  },
  {
   "cell_type": "markdown",
   "id": "69ecb651",
   "metadata": {
    "slideshow": {
     "slide_type": "subslide"
    }
   },
   "source": [
    "What if we need the maximum inflammation for each patient over all days (as in the next diagram on the left) or the average for each day (as in the diagram on the right)?"
   ]
  },
  {
   "cell_type": "code",
   "execution_count": 24,
   "id": "3c8c11fb",
   "metadata": {
    "slideshow": {
     "slide_type": "subslide"
    }
   },
   "outputs": [
    {
     "data": {
      "image/png": "[encoded data removed]",
      "text/plain": [
       "<IPython.core.display.Image object>"
      ]
     },
     "execution_count": 24,
     "metadata": {},
     "output_type": "execute_result"
    }
   ],
   "source": [
    "display.Image(\"../img/python-operations-across-axes.png\")"
   ]
  },
  {
   "cell_type": "markdown",
   "id": "4b00db6b",
   "metadata": {},
   "source": [
    "# 2. Analysing patient data\n",
    "Lets have a look at the dataset first"
   ]
  },
  {
   "cell_type": "code",
   "execution_count": 25,
   "id": "04682a6d",
   "metadata": {},
   "outputs": [],
   "source": [
    "# NumPy is a Python library used for operations with matrices and arrays\n",
    "# Numpy comes pre-installed with anaconda\n",
    "import numpy"
   ]
  },
  {
   "cell_type": "code",
   "execution_count": 26,
   "id": "887d98c5",
   "metadata": {},
   "outputs": [
    {
     "name": "stdout",
     "output_type": "stream",
     "text": [
      "[[0. 0. 1. ... 3. 0. 0.]\n",
      " [0. 1. 2. ... 1. 0. 1.]\n",
      " [0. 1. 1. ... 2. 1. 1.]\n",
      " ...\n",
      " [0. 1. 1. ... 1. 1. 1.]\n",
      " [0. 0. 0. ... 0. 2. 0.]\n",
      " [0. 0. 1. ... 1. 1. 0.]]\n",
      "<class 'numpy.ndarray'>\n",
      "float64\n",
      "(60, 40)\n"
     ]
    }
   ],
   "source": [
    "data = numpy.loadtxt(fname='data/inflammation-01.csv', delimiter=',')\n",
    "print(data) # Shows small part of the dataset\n",
    "\n",
    "# test type of value holded by data variable\n",
    "print(type(data))\n",
    "print(data.dtype) # Highlight OOP\n",
    "print(data.shape)"
   ]
  },
  {
   "cell_type": "code",
   "execution_count": 27,
   "id": "ce4da284",
   "metadata": {},
   "outputs": [
    {
     "name": "stdout",
     "output_type": "stream",
     "text": [
      "first element in data: 0.0\n",
      "[[0. 0. 1. 3. 1. 2. 4. 7. 8. 3.]\n",
      " [0. 1. 2. 1. 2. 1. 3. 2. 2. 6.]\n",
      " [0. 1. 1. 3. 3. 2. 6. 2. 5. 9.]\n",
      " [0. 0. 2. 0. 4. 2. 2. 1. 6. 7.]]\n",
      "[[2. 3. 0. 0.]\n",
      " [1. 1. 0. 1.]\n",
      " [2. 2. 1. 1.]]\n"
     ]
    }
   ],
   "source": [
    "# Indexing an array\n",
    "print('first element in data:', data[0, 0])\n",
    "\n",
    "# Slicing data\n",
    "print(data[0:4, 0:10])\n",
    "\n",
    "subset = data[:3, -4:] # we can use -4 to call the index from the end\n",
    "print(subset)"
   ]
  },
  {
   "cell_type": "markdown",
   "id": "388a13bb",
   "metadata": {},
   "source": [
    "# Talk about libraries and OOP a bit\n",
    "- For Today the most important to know about object oriented programing, is that is a way of structuring code in a certain way.\n",
    "- Python is OOP and it is particularly noticeable when you are reusing libraries like numpy.\n"
   ]
  },
  {
   "cell_type": "code",
   "execution_count": 28,
   "id": "9d417fed",
   "metadata": {},
   "outputs": [
    {
     "name": "stdout",
     "output_type": "stream",
     "text": [
      "6.14875\n"
     ]
    }
   ],
   "source": [
    "# Using methods fromt he class numpy\n",
    "print(numpy.mean(data))"
   ]
  },
  {
   "cell_type": "code",
   "execution_count": 29,
   "id": "d0722197",
   "metadata": {},
   "outputs": [
    {
     "name": "stdout",
     "output_type": "stream",
     "text": [
      "maximum inflammation: 20.0\n",
      "mininum inflammation: 0.0\n",
      "standard deviation: 4.613833197118566\n"
     ]
    }
   ],
   "source": [
    "# Useful statistics\n",
    "maxval, minval, stdval = numpy.max(data), numpy.min(data), numpy.std(data)\n",
    "\n",
    "print('maximum inflammation:', maxval)\n",
    "print('mininum inflammation:', minval)\n",
    "print('standard deviation:', stdval)"
   ]
  },
  {
   "cell_type": "markdown",
   "id": "6dcb5ee6",
   "metadata": {},
   "source": [
    "When analysing data, though, we often want to look at variations in statistical values, such as the maximum inflammation per patient or the average inflammation per day."
   ]
  },
  {
   "cell_type": "code",
   "execution_count": 30,
   "id": "18c85525",
   "metadata": {},
   "outputs": [
    {
     "name": "stdout",
     "output_type": "stream",
     "text": [
      "[ 0.          0.45        1.11666667  1.75        2.43333333  3.15\n",
      "  3.8         3.88333333  5.23333333  5.51666667  5.95        5.9\n",
      "  8.35        7.73333333  8.36666667  9.5         9.58333333 10.63333333\n",
      " 11.56666667 12.35       13.25       11.96666667 11.03333333 10.16666667\n",
      " 10.          8.66666667  9.15        7.25        7.33333333  6.58333333\n",
      "  6.06666667  5.95        5.11666667  3.6         3.3         3.56666667\n",
      "  2.48333333  1.5         1.13333333  0.56666667]\n",
      "(40,)\n"
     ]
    }
   ],
   "source": [
    "# Mean per day over all patients\n",
    "print(numpy.mean(data, axis=0))\n",
    "\n",
    "print(numpy.mean(data, axis=0).shape)"
   ]
  },
  {
   "cell_type": "code",
   "execution_count": 31,
   "id": "e1c4cefe",
   "metadata": {},
   "outputs": [
    {
     "name": "stdout",
     "output_type": "stream",
     "text": [
      "[5.45  5.425 6.1   5.9   5.55  6.225 5.975 6.65  6.625 6.525 6.775 5.8\n",
      " 6.225 5.75  5.225 6.3   6.55  5.7   5.85  6.55  5.775 5.825 6.175 6.1\n",
      " 5.8   6.425 6.05  6.025 6.175 6.55  6.175 6.35  6.725 6.125 7.075 5.725\n",
      " 5.925 6.15  6.075 5.75  5.975 5.725 6.3   5.9   6.75  5.925 7.225 6.15\n",
      " 5.95  6.275 5.7   6.1   6.825 5.975 6.725 5.7   6.25  6.4   7.05  5.9  ]\n",
      "(60,)\n"
     ]
    }
   ],
   "source": [
    "# The average inflammation per patient across all days\n",
    "print(numpy.mean(data, axis=1))\n",
    "\n",
    "# As a quick check, we can look at the shape\n",
    "print(numpy.mean(data, axis=1).shape)"
   ]
  },
  {
   "cell_type": "markdown",
   "id": "4adaff84",
   "metadata": {},
   "source": [
    "## Using pandas to show how libraries build on top of each other to add value\n",
    "Pandas is built on top of NumPy, which means the Python pandas package depends on the NumPy package and also pandas intended with many other 3rd party libraries."
   ]
  },
  {
   "cell_type": "code",
   "execution_count": 32,
   "id": "17adbe88",
   "metadata": {},
   "outputs": [
    {
     "data": {
      "text/html": [
       "<div>\n",
       "<style scoped>\n",
       "    .dataframe tbody tr th:only-of-type {\n",
       "        vertical-align: middle;\n",
       "    }\n",
       "\n",
       "    .dataframe tbody tr th {\n",
       "        vertical-align: top;\n",
       "    }\n",
       "\n",
       "    .dataframe thead th {\n",
       "        text-align: right;\n",
       "    }\n",
       "</style>\n",
       "<table border=\"1\" class=\"dataframe\">\n",
       "  <thead>\n",
       "    <tr style=\"text-align: right;\">\n",
       "      <th></th>\n",
       "      <th>0</th>\n",
       "      <th>1</th>\n",
       "      <th>2</th>\n",
       "      <th>3</th>\n",
       "      <th>4</th>\n",
       "      <th>5</th>\n",
       "      <th>6</th>\n",
       "      <th>7</th>\n",
       "      <th>8</th>\n",
       "      <th>9</th>\n",
       "      <th>...</th>\n",
       "      <th>30</th>\n",
       "      <th>31</th>\n",
       "      <th>32</th>\n",
       "      <th>33</th>\n",
       "      <th>34</th>\n",
       "      <th>35</th>\n",
       "      <th>36</th>\n",
       "      <th>37</th>\n",
       "      <th>38</th>\n",
       "      <th>39</th>\n",
       "    </tr>\n",
       "  </thead>\n",
       "  <tbody>\n",
       "    <tr>\n",
       "      <th>0</th>\n",
       "      <td>0.0</td>\n",
       "      <td>0.0</td>\n",
       "      <td>1.0</td>\n",
       "      <td>3.0</td>\n",
       "      <td>1.0</td>\n",
       "      <td>2.0</td>\n",
       "      <td>4.0</td>\n",
       "      <td>7.0</td>\n",
       "      <td>8.0</td>\n",
       "      <td>3.0</td>\n",
       "      <td>...</td>\n",
       "      <td>4.0</td>\n",
       "      <td>4.0</td>\n",
       "      <td>5.0</td>\n",
       "      <td>7.0</td>\n",
       "      <td>3.0</td>\n",
       "      <td>4.0</td>\n",
       "      <td>2.0</td>\n",
       "      <td>3.0</td>\n",
       "      <td>0.0</td>\n",
       "      <td>0.0</td>\n",
       "    </tr>\n",
       "    <tr>\n",
       "      <th>1</th>\n",
       "      <td>0.0</td>\n",
       "      <td>1.0</td>\n",
       "      <td>2.0</td>\n",
       "      <td>1.0</td>\n",
       "      <td>2.0</td>\n",
       "      <td>1.0</td>\n",
       "      <td>3.0</td>\n",
       "      <td>2.0</td>\n",
       "      <td>2.0</td>\n",
       "      <td>6.0</td>\n",
       "      <td>...</td>\n",
       "      <td>3.0</td>\n",
       "      <td>5.0</td>\n",
       "      <td>4.0</td>\n",
       "      <td>4.0</td>\n",
       "      <td>5.0</td>\n",
       "      <td>5.0</td>\n",
       "      <td>1.0</td>\n",
       "      <td>1.0</td>\n",
       "      <td>0.0</td>\n",
       "      <td>1.0</td>\n",
       "    </tr>\n",
       "    <tr>\n",
       "      <th>2</th>\n",
       "      <td>0.0</td>\n",
       "      <td>1.0</td>\n",
       "      <td>1.0</td>\n",
       "      <td>3.0</td>\n",
       "      <td>3.0</td>\n",
       "      <td>2.0</td>\n",
       "      <td>6.0</td>\n",
       "      <td>2.0</td>\n",
       "      <td>5.0</td>\n",
       "      <td>9.0</td>\n",
       "      <td>...</td>\n",
       "      <td>10.0</td>\n",
       "      <td>5.0</td>\n",
       "      <td>4.0</td>\n",
       "      <td>2.0</td>\n",
       "      <td>2.0</td>\n",
       "      <td>3.0</td>\n",
       "      <td>2.0</td>\n",
       "      <td>2.0</td>\n",
       "      <td>1.0</td>\n",
       "      <td>1.0</td>\n",
       "    </tr>\n",
       "    <tr>\n",
       "      <th>3</th>\n",
       "      <td>0.0</td>\n",
       "      <td>0.0</td>\n",
       "      <td>2.0</td>\n",
       "      <td>0.0</td>\n",
       "      <td>4.0</td>\n",
       "      <td>2.0</td>\n",
       "      <td>2.0</td>\n",
       "      <td>1.0</td>\n",
       "      <td>6.0</td>\n",
       "      <td>7.0</td>\n",
       "      <td>...</td>\n",
       "      <td>3.0</td>\n",
       "      <td>5.0</td>\n",
       "      <td>6.0</td>\n",
       "      <td>3.0</td>\n",
       "      <td>3.0</td>\n",
       "      <td>4.0</td>\n",
       "      <td>2.0</td>\n",
       "      <td>3.0</td>\n",
       "      <td>2.0</td>\n",
       "      <td>1.0</td>\n",
       "    </tr>\n",
       "    <tr>\n",
       "      <th>4</th>\n",
       "      <td>0.0</td>\n",
       "      <td>1.0</td>\n",
       "      <td>1.0</td>\n",
       "      <td>3.0</td>\n",
       "      <td>3.0</td>\n",
       "      <td>1.0</td>\n",
       "      <td>3.0</td>\n",
       "      <td>5.0</td>\n",
       "      <td>2.0</td>\n",
       "      <td>4.0</td>\n",
       "      <td>...</td>\n",
       "      <td>9.0</td>\n",
       "      <td>6.0</td>\n",
       "      <td>3.0</td>\n",
       "      <td>2.0</td>\n",
       "      <td>2.0</td>\n",
       "      <td>4.0</td>\n",
       "      <td>2.0</td>\n",
       "      <td>0.0</td>\n",
       "      <td>1.0</td>\n",
       "      <td>1.0</td>\n",
       "    </tr>\n",
       "  </tbody>\n",
       "</table>\n",
       "<p>5 rows × 40 columns</p>\n",
       "</div>"
      ],
      "text/plain": [
       "    0    1    2    3    4    5    6    7    8    9   ...    30   31   32   33  \\\n",
       "0  0.0  0.0  1.0  3.0  1.0  2.0  4.0  7.0  8.0  3.0  ...   4.0  4.0  5.0  7.0   \n",
       "1  0.0  1.0  2.0  1.0  2.0  1.0  3.0  2.0  2.0  6.0  ...   3.0  5.0  4.0  4.0   \n",
       "2  0.0  1.0  1.0  3.0  3.0  2.0  6.0  2.0  5.0  9.0  ...  10.0  5.0  4.0  2.0   \n",
       "3  0.0  0.0  2.0  0.0  4.0  2.0  2.0  1.0  6.0  7.0  ...   3.0  5.0  6.0  3.0   \n",
       "4  0.0  1.0  1.0  3.0  3.0  1.0  3.0  5.0  2.0  4.0  ...   9.0  6.0  3.0  2.0   \n",
       "\n",
       "    34   35   36   37   38   39  \n",
       "0  3.0  4.0  2.0  3.0  0.0  0.0  \n",
       "1  5.0  5.0  1.0  1.0  0.0  1.0  \n",
       "2  2.0  3.0  2.0  2.0  1.0  1.0  \n",
       "3  3.0  4.0  2.0  3.0  2.0  1.0  \n",
       "4  2.0  4.0  2.0  0.0  1.0  1.0  \n",
       "\n",
       "[5 rows x 40 columns]"
      ]
     },
     "execution_count": 32,
     "metadata": {},
     "output_type": "execute_result"
    }
   ],
   "source": [
    "# Use pandas to show how to handle array data \n",
    "# Explain that pandas are based on numpy arrays\n",
    "import pandas as pd\n",
    "\n",
    "df = pd.DataFrame(data = data)\n",
    "df.head() # A method to show only one part of the dataframe"
   ]
  },
  {
   "cell_type": "markdown",
   "id": "92adb13c",
   "metadata": {
    "slideshow": {
     "slide_type": "slide"
    }
   },
   "source": [
    "### Key points\n",
    "* Import a library into a program using import libraryname.\n",
    "* Use the `numpy` library to work with arrays in Python.\n",
    "* Use array `[x, y]` to select a single element from a 2D array.\n",
    "* Use `numpy.mean(array)`, `numpy.max(array)`, and `numpy.min(array)` to calculate simple statistics.\n",
    "* Use `numpy.mean(array, axis=0)` or `numpy.mean(array, axis=1)` to calculate statistics across the specified axis.\\\n",
    "\n",
    "### Questions?"
   ]
  },
  {
   "cell_type": "markdown",
   "id": "1b1a3a01",
   "metadata": {
    "slideshow": {
     "slide_type": "slide"
    }
   },
   "source": [
    "# 3. Visualizing Tabular Data"
   ]
  },
  {
   "cell_type": "code",
   "execution_count": 33,
   "id": "72d12cbf",
   "metadata": {},
   "outputs": [],
   "source": [
    "import matplotlib.pyplot\n",
    "# Let's make our lives easier with an alias\n",
    "## import matplotlib.pyplot as plt"
   ]
  },
  {
   "cell_type": "code",
   "execution_count": 34,
   "id": "bdfd2ff3",
   "metadata": {},
   "outputs": [
    {
     "data": {
      "image/png": "[encoded data removed]",
      "text/plain": [
       "<Figure size 432x288 with 1 Axes>"
      ]
     },
     "metadata": {
      "needs_background": "light"
     },
     "output_type": "display_data"
    }
   ],
   "source": [
    "# Plot entire dataset as a heatmap\n",
    "image = matplotlib.pyplot.imshow(data)\n",
    "matplotlib.pyplot.show(image)"
   ]
  },
  {
   "cell_type": "code",
   "execution_count": 35,
   "id": "72e75590",
   "metadata": {},
   "outputs": [
    {
     "data": {
      "image/png": "[encoded data removed]",
      "text/plain": [
       "<Figure size 432x288 with 1 Axes>"
      ]
     },
     "metadata": {
      "needs_background": "light"
     },
     "output_type": "display_data"
    }
   ],
   "source": [
    "import matplotlib.pyplot as plt\n",
    "\n",
    "# Plot the mean inflammation per day over all patients\n",
    "mean_inflammation = numpy.mean(data, axis=0)\n",
    "mean_plot = plt.plot(mean_inflammation)\n",
    "plt.show(mean_plot)"
   ]
  },
  {
   "cell_type": "markdown",
   "id": "54ffa560",
   "metadata": {},
   "source": [
    "This data looks suspicious! I would not expect to find a sharp peak in an average of the dataset. Very unlikely that the inflammation of all patients spikes on day 18. Let's look at two other statistics: max and min"
   ]
  },
  {
   "cell_type": "code",
   "execution_count": null,
   "id": "69f8dc10",
   "metadata": {},
   "outputs": [],
   "source": []
  },
  {
   "cell_type": "code",
   "execution_count": null,
   "id": "5d11d730",
   "metadata": {},
   "outputs": [],
   "source": []
  },
  {
   "cell_type": "markdown",
   "id": "3a6864b4",
   "metadata": {},
   "source": [
    "### Try to do this on your own later:\n",
    "Create `inflammation_analysis.ipynb` \n",
    "Let's organize our analysis in a new notebook\n",
    "\n",
    "**Steps:**\n",
    "1. Set up subplots\n",
    "2. Load data\n",
    "3. Plot data\n",
    "4. Add labels\n",
    "5. Save the figure"
   ]
  },
  {
   "cell_type": "markdown",
   "id": "4bdf8a06",
   "metadata": {},
   "source": [
    "### Key points\n",
    "* Use the `pyplot` module from the `matplotlib` library for creating simple visualizations.\n",
    "* Use an alias when importing lengthy library names, e.g. `import matplotlib.pyplot as plt`\n",
    "* Create subplots and add labels\n",
    "\n",
    "### Questions?"
   ]
  },
  {
   "cell_type": "markdown",
   "id": "59b17541",
   "metadata": {
    "slideshow": {
     "slide_type": "slide"
    }
   },
   "source": [
    "# 4. Repeating actions"
   ]
  },
  {
   "cell_type": "code",
   "execution_count": 36,
   "id": "b1e5ca32",
   "metadata": {},
   "outputs": [],
   "source": [
    "# Follow along with instructor"
   ]
  },
  {
   "cell_type": "markdown",
   "id": "2c5137f8",
   "metadata": {},
   "source": [
    "### Key points\n",
    "* Use `for variable in sequence` to process the elements of a sequence one at a time.\n",
    "* The body of a `for` loop must be indented.\n",
    "* Use `glob.glob(pattern)` to create a list of files whose names match a pattern.\n",
    "* Use `*` in a pattern to match zero or more characters, and `?` to match any single character.\n",
    "\n",
    "### Questions?"
   ]
  },
  {
   "cell_type": "markdown",
   "id": "f05d1148",
   "metadata": {},
   "source": [
    "# Breakout Session 2"
   ]
  },
  {
   "cell_type": "markdown",
   "id": "4b525e27",
   "metadata": {},
   "source": [
    "# Exercise 3 - Change in inflammation\n",
    "\n",
    "The patient data is longitudinal in the sense that each row represents a series of observations relating to one individual. This means that the change in inflammation over time is a meaningful concept.\n",
    "\n",
    "The `numpy.diff()` function takes an array and returns the differences between two successive values. Let’s use it to examine the changes each day across the first week of patient 3 from our inflammation dataset:"
   ]
  },
  {
   "cell_type": "code",
   "execution_count": 37,
   "id": "73558190",
   "metadata": {},
   "outputs": [],
   "source": [
    "# Load data\n",
    "import numpy\n",
    "data = numpy.loadtxt(fname='data/inflammation-01.csv', delimiter=',')"
   ]
  },
  {
   "cell_type": "code",
   "execution_count": 38,
   "id": "7baeebf2",
   "metadata": {},
   "outputs": [
    {
     "name": "stdout",
     "output_type": "stream",
     "text": [
      "[0. 0. 2. 0. 4. 2. 2.]\n"
     ]
    }
   ],
   "source": [
    "patient3_week1 = data[3, :7]\n",
    "print(patient3_week1)"
   ]
  },
  {
   "cell_type": "code",
   "execution_count": 39,
   "id": "f1224f96",
   "metadata": {},
   "outputs": [
    {
     "name": "stdout",
     "output_type": "stream",
     "text": [
      "[0. 0. 2. 0. 4. 2. 2.]\n"
     ]
    }
   ],
   "source": [
    "patient3_week1 = data[3, :7]\n",
    "print(patient3_week1)"
   ]
  },
  {
   "cell_type": "markdown",
   "id": "2bdf927a",
   "metadata": {},
   "source": [
    "Calling `numpy.diff(patient3_week1)` would do the following calculations"
   ]
  },
  {
   "cell_type": "code",
   "execution_count": 40,
   "id": "eacb26a4",
   "metadata": {},
   "outputs": [
    {
     "data": {
      "text/plain": [
       "array([ 0.,  2., -2.,  4., -2.,  0.])"
      ]
     },
     "execution_count": 40,
     "metadata": {},
     "output_type": "execute_result"
    }
   ],
   "source": [
    "numpy.diff(patient3_week1)"
   ]
  },
  {
   "cell_type": "markdown",
   "id": "4dfa5a7e",
   "metadata": {},
   "source": [
    "### Questions\n",
    "\n",
    "1. When calling `numpy.diff()` with a multi-dimensional array, an axis argument may be passed to the function to specify which axis to process. When applying `numpy.diff()` to our 2D inflammation array data, which axis would we specify?\n"
   ]
  },
  {
   "cell_type": "code",
   "execution_count": 41,
   "id": "fbbd3f0e",
   "metadata": {},
   "outputs": [],
   "source": [
    "# Your solution"
   ]
  },
  {
   "cell_type": "code",
   "execution_count": null,
   "id": "8e964c59",
   "metadata": {},
   "outputs": [],
   "source": []
  },
  {
   "cell_type": "markdown",
   "id": "2d0bdace",
   "metadata": {},
   "source": [
    "Alternatively, `numpy.diff(data, axis=1).max(axis=1)` also works. Furhtermore, it can be extended with `.shape` to check the size: `numpy.diff(data, axis=1).max(axis=1).shape`."
   ]
  },
  {
   "cell_type": "markdown",
   "id": "a278593f",
   "metadata": {},
   "source": [
    "# Exercise 4 - Plotting differences\n",
    "\n",
    "Plot the difference between the average inflammations reported in the first and second datasets (stored in `inflammation-01.csv` and `inflammation-02.csv`, correspondingly), i.e., the difference between the leftmost plots of the first two figures we have plotted so far. \n",
    "\n",
    "Steps:\n",
    "1. Import libraries\n",
    "1. Import data\n",
    "1. Calculate difference\n",
    "1. Create and annotate figure"
   ]
  },
  {
   "cell_type": "code",
   "execution_count": 42,
   "id": "990cd0f1",
   "metadata": {},
   "outputs": [],
   "source": [
    "# Your solution"
   ]
  }
 ],
 "metadata": {
  "celltoolbar": "Slideshow",
  "kernelspec": {
   "display_name": "Python 3",
   "language": "python",
   "name": "python3"
  },
  "language_info": {
   "codemirror_mode": {
    "name": "ipython",
    "version": 3
   },
   "file_extension": ".py",
   "mimetype": "text/x-python",
   "name": "python",
   "nbconvert_exporter": "python",
   "pygments_lexer": "ipython3",
   "version": "3.9.5"
  }
 },
 "nbformat": 4,
 "nbformat_minor": 5
}
