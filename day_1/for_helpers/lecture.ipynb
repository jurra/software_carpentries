{
 "cells": [
  {
   "cell_type": "code",
   "execution_count": null,
   "id": "b8d7a00a",
   "metadata": {
    "slideshow": {
     "slide_type": "skip"
    }
   },
   "outputs": [],
   "source": [
    "from IPython import display"
   ]
  },
  {
   "cell_type": "markdown",
   "id": "e986c81f-fa31-41cd-b963-b64c15724fe4",
   "metadata": {
    "slideshow": {
     "slide_type": "slide"
    }
   },
   "source": [
    "# What to expect from the Python lessons\n",
    "- Get you started with python through a little project\n",
    "- Showcase relevant use cases of python for exploratory data analysis \n",
    "- Provide you with exercises during and after the lessons so that you practice and experience python\n",
    "- Provide you with good reads to develop further the wonderful craft of programming"
   ]
  },
  {
   "cell_type": "markdown",
   "id": "9510d219-1bc5-4ac2-aea4-89423d8878d5",
   "metadata": {
    "slideshow": {
     "slide_type": "subslide"
    }
   },
   "source": [
    "# Coding project  introduction\n",
    "\n",
    "We will work with hypothetical clynical trial data about a drug that aims to reduce arthritis inflammation.\n",
    "The data analysis goal is to assess the effectiveness of the treament and inform the clynical trial with data visualization taking advantage of interactive notebooks.\n",
    "\n",
    "More details on this later ;)\n"
   ]
  },
  {
   "cell_type": "markdown",
   "id": "0abf8d36",
   "metadata": {
    "slideshow": {
     "slide_type": "subslide"
    },
    "tags": []
   },
   "source": [
    "## Software Carpentry - Python part 1\n",
    "\n",
    "12:45 - Introduction to Jupyter notebooks  \n",
    "13:00 - Python fundamentals  \n",
    "13:45 - Exercises in Breakout Room  \n",
    "\n",
    "**14:00 - Coffee break**  \n",
    "\n",
    "14:15 - Loading data  \n",
    "14:45 - Visualizing data  \n",
    "\n",
    "**15:30 - Coffee break**  \n",
    "\n",
    "15:45 - Repeating actions  \n",
    "16:30 - Exercises in Breakout Room  \n",
    "16:50 - Wrap up  "
   ]
  },
  {
   "cell_type": "markdown",
   "id": "4901e6bc-c404-4049-8ab9-f2fe4df3749b",
   "metadata": {
    "slideshow": {
     "slide_type": "subslide"
    }
   },
   "source": [
    "# Quick tour to Anaconda (Individual edition)\n",
    "\n",
    "\"**Your data science toolkit**: With over 25 million users worldwide, the open-source Individual Edition (Distribution) is the easiest way to perform Python/R data science and machine learning on a single machine. Developed for solo practitioners, it is the toolkit that equips you to work with thousands of open-source packages and libraries.\"\n",
    "\n",
    "https://www.anaconda.com/products/individual"
   ]
  },
  {
   "cell_type": "markdown",
   "id": "eda86e59",
   "metadata": {
    "slideshow": {
     "slide_type": "subslide"
    }
   },
   "source": [
    "## Anaconda installation comes with:\n",
    "* Latest version of Python\n",
    "* JupyterLab, Jupyter notebooks and several other IDE options\n",
    "* An easy-to-install collection of high performance Python libraries\n",
    "* Conda, tool for managing packages and environments\n",
    "* Collection of open source packages and tools to install over 1.5k additional packages\n",
    "* Anaconda Navigator is a graphical user interface to the conda package and environment manager and a free scientific-computing environment."
   ]
  },
  {
   "cell_type": "code",
   "execution_count": null,
   "id": "8161c0f1",
   "metadata": {
    "slideshow": {
     "slide_type": "subslide"
    }
   },
   "outputs": [],
   "source": [
    "display.Image(\"../../img/conda.png\")"
   ]
  },
  {
   "cell_type": "markdown",
   "id": "2858da1e",
   "metadata": {
    "slideshow": {
     "slide_type": "subslide"
    }
   },
   "source": [
    "# Let's open up a jupyter notebook!\n",
    "\n",
    "## Method 1: Anaconda Navigator\n",
    "\n"
   ]
  },
  {
   "cell_type": "code",
   "execution_count": null,
   "id": "3b2f21d3",
   "metadata": {
    "slideshow": {
     "slide_type": "skip"
    },
    "tags": []
   },
   "outputs": [],
   "source": [
    "display.Image(\"../../img/anaconda-navigator-notebook-launch.png\")"
   ]
  },
  {
   "cell_type": "markdown",
   "id": "2da389f2",
   "metadata": {},
   "source": [
    "## Method 2: Terminal"
   ]
  },
  {
   "cell_type": "markdown",
   "id": "8bce3725-f6e4-48a3-a330-f44808b95cae",
   "metadata": {
    "slideshow": {
     "slide_type": "subslide"
    }
   },
   "source": [
    "# Why are we using notebooks instead of an IDE like Spyder\n",
    "\n",
    "- Storytelling with documented and re-executable analysis\n",
    "- Great for exploring libraries, commands and code snippets\n",
    "- Persistence of code snippets you want to reuse and try compared to a terminal or ipython.\n",
    "\n"
   ]
  },
  {
   "cell_type": "code",
   "execution_count": null,
   "id": "e7d75eee",
   "metadata": {},
   "outputs": [],
   "source": [
    "# This is a code snippet\n",
    "def say_hello(your_name):    # define say_hello function\n",
    "    print('Hello ' + your_name)\n",
    "\n",
    "say_hello('Jose') # Here we call the function"
   ]
  },
  {
   "cell_type": "markdown",
   "id": "d98ecb1d",
   "metadata": {
    "slideshow": {
     "slide_type": "subslide"
    }
   },
   "source": [
    "## Dont confuse the interactive notebook documents  with the \"jupyter notebook\" application\n",
    "- The first one is a document format that you can find with an `.ipynb` file extension\n",
    "- The second is an application where you can use such documents\n",
    "- Interactive notebooks or `ipynb`s are very related to `.ipython`an interactive shell."
   ]
  },
  {
   "cell_type": "markdown",
   "id": "cc6cdeb5",
   "metadata": {
    "slideshow": {
     "slide_type": "fragment"
    }
   },
   "source": [
    "Open notebook example: [Gravitational Wave Open Science Center](https://mybinder.org/v2/gh/losc-tutorial/quickview/master?filepath=index.ipynb)"
   ]
  },
  {
   "cell_type": "markdown",
   "id": "04791cec",
   "metadata": {},
   "source": [
    "# 1. Python fundamentals"
   ]
  },
  {
   "cell_type": "markdown",
   "id": "5affa7b9",
   "metadata": {
    "slideshow": {
     "slide_type": "subslide"
    }
   },
   "source": [
    "## Lets get started with python and see what it can do \n",
    "- Open your jupyter notebook application \n",
    "- Go to `day_1/` directory and open the `exercises.ipynb` notebook.\n"
   ]
  },
  {
   "cell_type": "markdown",
   "id": "7dfa7b68",
   "metadata": {
    "slideshow": {
     "slide_type": "fragment"
    }
   },
   "source": [
    "### How to use the `exercises.ipynb`\n",
    "\n",
    "- Lets write our first code snippet in a cell\n",
    "- Lets execute code (pressing run or pressing `Shift + Enter`)\n",
    "- Lets write some markdown in another cell"
   ]
  },
  {
   "cell_type": "code",
   "execution_count": null,
   "id": "aef09772",
   "metadata": {
    "slideshow": {
     "slide_type": "fragment"
    }
   },
   "outputs": [],
   "source": [
    "# Write your first code snippet"
   ]
  },
  {
   "cell_type": "code",
   "execution_count": null,
   "id": "dcccc56b",
   "metadata": {
    "slideshow": {
     "slide_type": "fragment"
    }
   },
   "outputs": [],
   "source": [
    "# Write your first markdown cell"
   ]
  },
  {
   "cell_type": "markdown",
   "id": "aa44ce12",
   "metadata": {
    "slideshow": {
     "slide_type": "slide"
    },
    "tags": []
   },
   "source": [
    "# Things you should know about python for Today\n",
    "* Easy to code, It is a very easy to learn language.\n",
    "* It has a lot of reusable code that allows you to do powerful things (libraries)\n",
    "* High-Level, when we write python code you dont have to remember systems architecture\n",
    "* Open source and highly extendable!\n",
    "* Indentation and spaces make a difference\n",
    "\n"
   ]
  },
  {
   "cell_type": "code",
   "execution_count": null,
   "id": "51cb5a52",
   "metadata": {
    "slideshow": {
     "slide_type": "subslide"
    }
   },
   "outputs": [],
   "source": [
    "# In this snippet we demonstrate how indentation works in python\n",
    "names = ['Curie', 'Darwin', 'Turing']\n",
    "\n",
    "\n",
    "for name in names:\n",
    "print(name)\n",
    "\n",
    "# ..... To be explained with live coding\n",
    "# if name == 'Curie':\n",
    "# print('Curie is a lady')\n",
    "# else:\n",
    "# print(name + ' is not a lady')"
   ]
  },
  {
   "cell_type": "markdown",
   "id": "a286a23f",
   "metadata": {
    "slideshow": {
     "slide_type": "subslide"
    }
   },
   "source": [
    "## Variables and data types in python\n",
    "Create variables to describe patient characteristics:\n",
    "- Patient identifier\n",
    "- Patient name\n",
    "- Age\n",
    "- Weight\n",
    "- Specificatin of inflammations status (is inflammated, is not inflammated)"
   ]
  },
  {
   "cell_type": "code",
   "execution_count": null,
   "id": "25cf99cb",
   "metadata": {
    "slideshow": {
     "slide_type": "-"
    }
   },
   "outputs": [],
   "source": [
    "# Demonstrate multiple assignment with two patient names\n",
    "patient_1_name, patient_2_name = \"Peter Pan\", \"Wendy\"\n",
    "print(patient_1_name, patient_2_name)\n",
    "\n",
    "# Demonstrate how to use print to interact with data in memory\n",
    "\n",
    "# Demonstrate string formatting to have better interaction with the terminal"
   ]
  },
  {
   "cell_type": "code",
   "execution_count": null,
   "id": "c805737e",
   "metadata": {
    "slideshow": {
     "slide_type": "subslide"
    }
   },
   "outputs": [],
   "source": [
    "# Demonstrate variables valid and invalid names \n",
    "# Examples 1_patient vs patient_1\n",
    "## patient name = \"Peter Pan\"   # This will not work\n",
    "## 1_patient_name = \"Peter Pan\" # This will not work\n",
    "patient_1_name = \"Peter Pan\"\n",
    "\n",
    "# Trying data types\n",
    "\n",
    "# Try integer type with patient_1 age\n",
    "patient_1_age = 40\n",
    "\n",
    "# Try floating points with patient's weight\n",
    "patient_1_weight = 90.5\n",
    "\n",
    "# a patient_id string\n",
    "patient_1_id = '001' # or patient_1_id = 1 \n",
    "\n",
    "# Boolean, does patient \"x\" has had inflammation?\n",
    "patient_1_is_inflammated = True\n",
    "\n",
    "# Get information about data types using a built in function\n",
    "print(type(patient_1_name))\n",
    "print(type(patient_1_age))\n",
    "print(type(patient_1_weight))\n",
    "\n",
    "\n",
    "# Use other builtin functions\n",
    "print(len(patient_1_name))"
   ]
  },
  {
   "cell_type": "markdown",
   "id": "0277f8da",
   "metadata": {
    "slideshow": {
     "slide_type": "subslide"
    }
   },
   "source": [
    "# Combining everything we have learned into a patients dataset\n",
    "- We will create a list of patients\n",
    "- And start populating and manipulating that list with python"
   ]
  },
  {
   "cell_type": "code",
   "execution_count": null,
   "id": "51f2538a",
   "metadata": {
    "slideshow": {
     "slide_type": "subslide"
    }
   },
   "outputs": [],
   "source": [
    "# Working with lists data types\n",
    "# First lets make an empty list\n",
    "patients = [] \n",
    "# Lets populate the list with our prvious values assigned to the patients variables\n",
    "patients.append(patient_2_name) # Here we append patient 2 to the list\n",
    "patients.insert(0, patient_1_name) # here we demonstrate how we insert an item in a particular position of the index\n",
    "\n",
    "# Grouping more data points per patient, we only have names\n",
    "# Place 0 in the list index is id, place 1, is name, place 3 is age, place 4 is weight, place 5 is_inflammated\n",
    "patient_1 = ['001', patient_1_name, 40, True ] # This show cases how a list can hold different data types\n",
    "\n",
    "# A patients list with different data points per patient\n",
    "# Demonstrate a two dimensional list: [[], [], []]\n",
    "patients = [[0, patient_1_name, 40, 100, True],\n",
    "            [1, patient_2_name, 60, 50 False],\n",
    "            [2, 'Alice', 40, True]]\n",
    "patients"
   ]
  },
  {
   "cell_type": "code",
   "execution_count": null,
   "id": "c2a4a528",
   "metadata": {
    "slideshow": {
     "slide_type": "subslide"
    }
   },
   "outputs": [],
   "source": [
    "# Organizing the same data using dictionaries\n",
    "patient_1 = {\n",
    "    \"id\": '001',\n",
    "    \"name\": \"Peter Pan\",\n",
    "    \"Age\" : 40,\n",
    "    \"Inflammation\": True\n",
    "}\n",
    "\n",
    "# Lets replace our first item in the patients previous list with our new data type\n",
    "patients[0] = patient_1\n",
    "patients"
   ]
  },
  {
   "cell_type": "code",
   "execution_count": null,
   "id": "05a9b315",
   "metadata": {},
   "outputs": [],
   "source": [
    "# Introduce slicing here"
   ]
  },
  {
   "cell_type": "markdown",
   "id": "d5f60e30",
   "metadata": {
    "slideshow": {
     "slide_type": "subslide"
    }
   },
   "source": [
    "# What have we done so far?\n",
    "- We know how to assign different data types to different values\n",
    "- We know how to compose more complex data types by aggregating the basic data types or primitive data types\n",
    "- We can use the notebook now to play around and try code snippets\n",
    "- We know how to use `print()` python builtin function to interact display results as outputs"
   ]
  },
  {
   "cell_type": "markdown",
   "id": "f6176fec",
   "metadata": {
    "slideshow": {
     "slide_type": "subslide"
    }
   },
   "source": [
    "# Lets put everything we have learned together into a little app to enter patients data into a list\n",
    "\n",
    "- We will introduce 4 patients to the patients list\n",
    "- Try to stick to the same names I am using..."
   ]
  },
  {
   "cell_type": "code",
   "execution_count": null,
   "id": "8ce33553",
   "metadata": {
    "slideshow": {
     "slide_type": "fragment"
    }
   },
   "outputs": [],
   "source": [
    "# We can use input like this\n",
    "# patient_name = input()"
   ]
  },
  {
   "cell_type": "code",
   "execution_count": null,
   "id": "97c0a888",
   "metadata": {
    "slideshow": {
     "slide_type": "subslide"
    }
   },
   "outputs": [],
   "source": [
    "# Lets clear our list again and start using the input() to populate the list\n",
    "patients = []"
   ]
  },
  {
   "cell_type": "code",
   "execution_count": null,
   "id": "161c14dc",
   "metadata": {
    "slideshow": {
     "slide_type": "subslide"
    }
   },
   "outputs": [],
   "source": [
    "# Create a patient id\n",
    "patient_id = len(patients) \n",
    "patients.append([patient_id])\n",
    "    \n",
    "# Enter patients name and add the entry to patients list\n",
    "print('Enter patients name:')\n",
    "name = input()\n",
    "patients[patient_id].append(name)\n",
    "\n",
    "# Enter patients age and add the entry to patients list\n",
    "print('Enter patients age:')\n",
    "age = input()\n",
    "patients[patient_id].append(age)\n",
    "\n",
    "# Enter patients weight and add the entry to patients list\n",
    "print('Enter patients weight:')\n",
    "weight = input()\n",
    "patients[patient_id].append(weight)\n",
    "\n",
    "# Specify if patient was inflammated\n",
    "print ('Enter if the patient was inflammated:')\n",
    "is_inflammated = input()\n",
    "patients[patient_id].append(is_inflammated)"
   ]
  },
  {
   "cell_type": "code",
   "execution_count": null,
   "id": "de6fc0f7",
   "metadata": {
    "slideshow": {
     "slide_type": "subslide"
    }
   },
   "outputs": [],
   "source": [
    "patients"
   ]
  },
  {
   "cell_type": "code",
   "execution_count": null,
   "id": "2c66444a",
   "metadata": {},
   "outputs": [],
   "source": [
    "# Save data to a file with python to csv format\n",
    "# There are more efficient ways to do this but this is better for demonstration purposes\n",
    "import csv\n",
    "\n",
    "# open the file in the write mode\n",
    "f = open('./my_patients.csv', 'w', encoding='UTF8')\n",
    "\n",
    "# create the csv writer\n",
    "writer = csv.writer(f)\n",
    "\n",
    "# write a row to the csv file\n",
    "writer.writerow(patients)\n",
    "\n",
    "# close the file\n",
    "f.close()\n",
    "\n",
    "# Now we have a persisted dataset in our directory"
   ]
  },
  {
   "cell_type": "code",
   "execution_count": null,
   "id": "ac75fea8",
   "metadata": {},
   "outputs": [],
   "source": [
    "# Loading useful \n",
    "import pandas as pd\n",
    "df=pd.read_csv('./my_patients.csv', sep=',',header=None)\n",
    "df"
   ]
  },
  {
   "cell_type": "markdown",
   "id": "8d432eb9",
   "metadata": {
    "slideshow": {
     "slide_type": "subslide"
    }
   },
   "source": [
    "# Checking data types to store data according to our original specifications"
   ]
  },
  {
   "cell_type": "code",
   "execution_count": null,
   "id": "c8fa9cc7",
   "metadata": {},
   "outputs": [],
   "source": [
    "# Lets check the types and see if the the data complies with requirements we have defined upfront\n",
    "type(patients[0][4])\n",
    "## type(patients[1][2])\n",
    "\n",
    "# Another way of checking\n",
    "type(patients[0][0]) == int\n",
    "\n",
    "# Do it with a for loop to inspect the data\n",
    "for item in patients[0]:\n",
    "    print(item, ' is of type', type(item))"
   ]
  },
  {
   "cell_type": "markdown",
   "id": "f38c69a9",
   "metadata": {
    "slideshow": {
     "slide_type": "subslide"
    }
   },
   "source": [
    "## Here we have a problem of types that dont match what we defined at the beginning\n",
    "- Age should be an integer\n",
    "- Weight should be a float\n",
    "- And is_inflammated should be a boolean type\n",
    "\n",
    "Hold this issue, we will come back to it later ;)"
   ]
  },
  {
   "cell_type": "markdown",
   "id": "fcc07af8",
   "metadata": {
    "slideshow": {
     "slide_type": "slide"
    }
   },
   "source": [
    "# Breakout Session 1"
   ]
  },
  {
   "cell_type": "markdown",
   "id": "5154bf74",
   "metadata": {},
   "source": [
    "# Exercise 1 - Slicing strings\n",
    "A section of an array is called a _slice_. We can take slices of character strings as well:"
   ]
  },
  {
   "cell_type": "code",
   "execution_count": null,
   "id": "784281d4",
   "metadata": {},
   "outputs": [],
   "source": [
    "element = \"oxygen\"\n",
    "print('first three characters:', element[0:3])\n",
    "print('last three characters:', element[3:6])"
   ]
  },
  {
   "cell_type": "markdown",
   "id": "5bb42ebd",
   "metadata": {},
   "source": [
    "What is the value of `element[4]`? What about `element[4:]`? Or `element[:]`?\n",
    "What is `element[-1]`? What is `element[-3:]`?"
   ]
  },
  {
   "cell_type": "code",
   "execution_count": null,
   "id": "2c309236",
   "metadata": {},
   "outputs": [],
   "source": [
    "# Your solution"
   ]
  },
  {
   "cell_type": "markdown",
   "id": "b8ce08af",
   "metadata": {},
   "source": [
    "# Excercise 2 - Slicing lists with steps\n",
    "\n",
    "So far we’ve seen how to use slicing to take single blocks of successive entries from a sequence. But what if we want to take a subset of entries that aren’t next to each other in the sequence? You can achieve this by providing a third argument to the range within the brackets, called the step size. \n",
    "\n",
    "The full sytax for creating slices is `[begin:end:step]`, although you most often find a short-hand notation as we've seen in Exercise 1. \n",
    "\n",
    "The example below shows how you can take every third entry in a list:"
   ]
  },
  {
   "cell_type": "code",
   "execution_count": null,
   "id": "84d777a0",
   "metadata": {},
   "outputs": [],
   "source": [
    "primes = [2, 3, 5, 7, 11, 13, 17, 19, 23, 29, 31, 37]\n",
    "subset = primes[0:12:3]\n",
    "print('subset', subset)"
   ]
  },
  {
   "cell_type": "markdown",
   "id": "e571a71c",
   "metadata": {},
   "source": [
    "Given the following list of months:"
   ]
  },
  {
   "cell_type": "code",
   "execution_count": null,
   "id": "2cf41d4a",
   "metadata": {},
   "outputs": [],
   "source": [
    "months = ['jan', 'feb', 'mar', 'apr', 'may', 'jun', 'jul', 'aug', 'sep', 'oct', 'nov', 'dec']"
   ]
  },
  {
   "cell_type": "markdown",
   "id": "c61dc9cf",
   "metadata": {},
   "source": [
    "### Questions\n",
    "\n",
    "1. What slice of `months` will produce the following output `['jan', 'mar', 'may', 'jul', 'sep', nov']`?\n",
    "\n",
    "1. Given the short-hand notation we used for the character string in Exercise 1 (i.e. `element[:2] == 'element[0:2]`), can you find the short-hand notation for question 1? What do you find easier to read?\n",
    "\n",
    "1. Using the step size parameter, can you think of a way to reverse the list?"
   ]
  },
  {
   "cell_type": "code",
   "execution_count": null,
   "id": "73074948",
   "metadata": {},
   "outputs": [],
   "source": [
    "# Your solution"
   ]
  },
  {
   "cell_type": "markdown",
   "id": "0b55174a",
   "metadata": {
    "slideshow": {
     "slide_type": "slide"
    }
   },
   "source": [
    "# Back to our code project: analysing patient data\n",
    "\n",
    "\n",
    "### Arthritis Inflammation\n",
    "\n",
    "We are studying inflammation in patients who have been given a new treatment for arthritis.\n",
    "\n",
    "There are 60 patients, who had their inflammation levels recorded for 40 days. We want to analyze these recordings to study the effect of the new arthritis treatment.\n",
    "\n",
    "To see how the treatment is affecting the patients in general, we would like to:\n",
    "\n",
    "1. Calculate the average inflammation per day across all patients.\n",
    "1. Plot the result to discuss and share with colleagues."
   ]
  },
  {
   "cell_type": "code",
   "execution_count": null,
   "id": "d936313b",
   "metadata": {
    "slideshow": {
     "slide_type": "subslide"
    }
   },
   "outputs": [],
   "source": [
    "display.Image(\"../../img/lesson-overview.png\")"
   ]
  },
  {
   "cell_type": "markdown",
   "id": "69ecb651",
   "metadata": {
    "slideshow": {
     "slide_type": "subslide"
    }
   },
   "source": [
    "What if we need the maximum inflammation for each patient over all days (as in the next diagram on the left) or the average for each day (as in the diagram on the right)?"
   ]
  },
  {
   "cell_type": "code",
   "execution_count": null,
   "id": "3c8c11fb",
   "metadata": {
    "slideshow": {
     "slide_type": "subslide"
    }
   },
   "outputs": [],
   "source": [
    "display.Image(\"../../img/python-operations-across-axes.png\")"
   ]
  },
  {
   "cell_type": "markdown",
   "id": "cb1daf8d",
   "metadata": {},
   "source": [
    "# 2. Analysing patient data\n",
    "Lets have a look at the dataset first"
   ]
  },
  {
   "cell_type": "code",
   "execution_count": null,
   "id": "5eea4f26",
   "metadata": {},
   "outputs": [],
   "source": [
    "# NumPy is a Python library used for operations with matrices and arrays\n",
    "# Numpy comes pre-installed with anaconda\n",
    "import numpy"
   ]
  },
  {
   "cell_type": "code",
   "execution_count": null,
   "id": "5201537f",
   "metadata": {},
   "outputs": [],
   "source": [
    "data = numpy.loadtxt(fname='./data/inflammation-01.csv', delimiter=',')\n",
    "print(data) # Shows small part of the dataset\n",
    "\n",
    "# test type of value holded by data variable\n",
    "print(type(data))\n",
    "print(data.dtype) # Highlight OOP\n",
    "print(data.shape)"
   ]
  },
  {
   "cell_type": "code",
   "execution_count": null,
   "id": "1a4e1fb6",
   "metadata": {},
   "outputs": [],
   "source": [
    "# Indexing an array\n",
    "print('first element in data:', data[0, 0])\n",
    "\n",
    "# Slicing data\n",
    "print(data[0:4, 0:10])\n",
    "\n",
    "subset = data[:3, -4:] # we can use -4 to call the index from the end\n",
    "print(subset)"
   ]
  },
  {
   "cell_type": "markdown",
   "id": "235520b7",
   "metadata": {},
   "source": [
    "# Talk about libraries and OOP a bit\n",
    "- For Today the most important to know about object oriented programing, is that is a way of structuring code in a certain way.\n",
    "- Python is OOP and it is particularly noticeable when you are reusing libraries like numpy.\n"
   ]
  },
  {
   "cell_type": "code",
   "execution_count": null,
   "id": "a0f1a0a4",
   "metadata": {},
   "outputs": [],
   "source": [
    "# Using methods fromt he class numpy\n",
    "print(numpy.mean(data))"
   ]
  },
  {
   "cell_type": "code",
   "execution_count": null,
   "id": "54a918b4",
   "metadata": {},
   "outputs": [],
   "source": [
    "# Useful statistics\n",
    "maxval, minval, stdval = numpy.max(data), numpy.min(data), numpy.std(data)\n",
    "\n",
    "print('maximum inflammation:', maxval)\n",
    "print('mininum inflammation:', minval)\n",
    "print('standard deviation:', stdval)"
   ]
  },
  {
   "cell_type": "markdown",
   "id": "6e86c537",
   "metadata": {},
   "source": [
    "When analysing data, though, we often want to look at variations in statistical values, such as the maximum inflammation per patient or the average inflammation per day."
   ]
  },
  {
   "cell_type": "code",
   "execution_count": null,
   "id": "f102453b",
   "metadata": {},
   "outputs": [],
   "source": [
    "# Mean per day over all patients\n",
    "print(numpy.mean(data, axis=0))\n",
    "\n",
    "print(numpy.mean(data, axis=0).shape)"
   ]
  },
  {
   "cell_type": "code",
   "execution_count": null,
   "id": "582761c6",
   "metadata": {},
   "outputs": [],
   "source": [
    "# The average inflammation per patient across all days\n",
    "print(numpy.mean(data, axis=1))\n",
    "\n",
    "# As a quick check, we can look at the shape\n",
    "print(numpy.mean(data, axis=1).shape)"
   ]
  },
  {
   "cell_type": "markdown",
   "id": "e3eca8cc",
   "metadata": {},
   "source": [
    "## Using pandas to show how libraries build on top of each other to add value\n",
    "Pandas is built on top of NumPy, which means the Python pandas package depends on the NumPy package and also pandas intended with many other 3rd party libraries."
   ]
  },
  {
   "cell_type": "code",
   "execution_count": null,
   "id": "0f88cde0",
   "metadata": {},
   "outputs": [],
   "source": [
    "# Use pandas to show how to handle array data \n",
    "# Explain that pandas are based on numpy arrays\n",
    "import pandas as pd\n",
    "\n",
    "df = pd.DataFrame(data = data)\n",
    "df.head() # A method to show only one part of the dataframe"
   ]
  },
  {
   "cell_type": "markdown",
   "id": "92adb13c",
   "metadata": {
    "slideshow": {
     "slide_type": "slide"
    }
   },
   "source": [
    "### Key points\n",
    "* Import a library into a program using import libraryname.\n",
    "* Use the `numpy` library to work with arrays in Python.\n",
    "* Use array `[x, y]` to select a single element from a 2D array.\n",
    "* Use `numpy.mean(array)`, `numpy.max(array)`, and `numpy.min(array)` to calculate simple statistics.\n",
    "* Use `numpy.mean(array, axis=0)` or `numpy.mean(array, axis=1)` to calculate statistics across the specified axis.\\\n",
    "\n",
    "### Questions?"
   ]
  },
  {
   "cell_type": "markdown",
   "id": "1b1a3a01",
   "metadata": {
    "slideshow": {
     "slide_type": "slide"
    }
   },
   "source": [
    "# 3. Visualizing Tabular Data"
   ]
  },
  {
   "cell_type": "code",
   "execution_count": null,
   "id": "01ae4a52",
   "metadata": {},
   "outputs": [],
   "source": [
    "import matplotlib.pyplot\n",
    "# Let's make our lives easier with an alias"
   ]
  },
  {
   "cell_type": "code",
   "execution_count": null,
   "id": "0225e2a0",
   "metadata": {},
   "outputs": [],
   "source": [
    "# Plot entire dataset as a heatmap\n",
    "image = matplotlib.pyplot.imshow(data)\n",
    "matplotlib.pyplot.show(image)"
   ]
  },
  {
   "cell_type": "code",
   "execution_count": null,
   "id": "22b2341a",
   "metadata": {},
   "outputs": [],
   "source": [
    "import matplotlib.pyplot as plt"
   ]
  },
  {
   "cell_type": "code",
   "execution_count": null,
   "id": "b300cffc",
   "metadata": {},
   "outputs": [],
   "source": [
    "# Plot the mean inflammation per day over all patients\n",
    "mean_inflammation = numpy.mean(data, axis=0)\n",
    "mean_plot = plt.plot(mean_inflammation)\n",
    "plt.show(mean_plot)"
   ]
  },
  {
   "cell_type": "markdown",
   "id": "c48a65dc",
   "metadata": {},
   "source": [
    "This data looks suspicious! I would not expect to find a sharp peak in an average of the dataset. Very unlikely that the inflammation of all patients spikes on day 18. Let's look at two other statistics: max and min"
   ]
  },
  {
   "cell_type": "code",
   "execution_count": null,
   "id": "27cb919f",
   "metadata": {},
   "outputs": [],
   "source": [
    "max_plot = plt.plot(numpy.max(data, axis=0))\n",
    "plt.show(max_plot)"
   ]
  },
  {
   "cell_type": "code",
   "execution_count": null,
   "id": "47cdadc5",
   "metadata": {},
   "outputs": [],
   "source": [
    "min_plot = plt.plot(numpy.min(data, axis=0))\n",
    "plt.show(min_plot)"
   ]
  },
  {
   "cell_type": "markdown",
   "id": "dc4488b4",
   "metadata": {},
   "source": [
    "### Try to do this on your own later after the workshop:\n",
    "Create `inflammation_analysis.ipynb` using markdown cells.\n",
    "Let's organize our analysis in a new notebook.\n",
    "Use the bullet points bellow to create a structure for your notebook.\n",
    "**Steps:**\n",
    "1. Set up subplots\n",
    "2. Load data\n",
    "3. Plot data\n",
    "4. Add labels\n",
    "5. Save the figure"
   ]
  },
  {
   "cell_type": "markdown",
   "id": "651ae39b",
   "metadata": {},
   "source": [
    "### Key points\n",
    "* Use the `pyplot` module from the `matplotlib` library for creating simple visualizations.\n",
    "* Use an alias when importing lengthy library names, e.g. `import matplotlib.pyplot as plt`\n",
    "* Create subplots and add labels\n",
    "\n",
    "### Questions?"
   ]
  },
  {
   "cell_type": "markdown",
   "id": "5004b582",
   "metadata": {},
   "source": [
    "# 4. Repeating Actions with Loops\n"
   ]
  },
  {
   "cell_type": "code",
   "execution_count": null,
   "id": "1a318ab4",
   "metadata": {},
   "outputs": [],
   "source": [
    "odds = [1, 3, 5, 7]\n",
    "print(odds[0])\n",
    "print(odds[1])\n",
    "print(odds[2])\n",
    "print(odds[3])"
   ]
  },
  {
   "cell_type": "code",
   "execution_count": null,
   "id": "0e535134",
   "metadata": {},
   "outputs": [],
   "source": [
    "# Use a for loop\n",
    "odds = [1, 3, 5, 7, 9]\n",
    "for num in odds:\n",
    "    print(num)"
   ]
  },
  {
   "cell_type": "markdown",
   "id": "d0925fac",
   "metadata": {},
   "source": [
    "Bad approach\n",
    "1. **Not scalable**. Four entries might be doable, hundreds will not!\n",
    "1. **Difficult to maintain**. If we want to change the print statement, we would need to change it four times. DRY -> Don't Repeat Yourself\n",
    "1. **Fragile**. If odds changes size, we would need to update the print statement."
   ]
  },
  {
   "cell_type": "code",
   "execution_count": null,
   "id": "c595f660",
   "metadata": {},
   "outputs": [],
   "source": [
    "# The name of the variable is not critical, aim for meaning and readability\n",
    "for banana in odds:\n",
    "    print(banana)"
   ]
  },
  {
   "cell_type": "markdown",
   "id": "c56033cc",
   "metadata": {},
   "source": [
    "### Looping over multiple data files\n",
    "\n",
    "As a final piece to processing our inflammation data, we need a way to get a list of all the files in our data directory whose names start with `inflammation-` and end with `.csv`. The following library will help us to achieve this:"
   ]
  },
  {
   "cell_type": "code",
   "execution_count": null,
   "id": "d3bb85cb",
   "metadata": {},
   "outputs": [],
   "source": [
    "import glob\n",
    "glob.glob('../data/inflammation*.csv')"
   ]
  },
  {
   "cell_type": "markdown",
   "id": "07a45a10",
   "metadata": {},
   "source": [
    "### Key points\n",
    "* Use `for variable in sequence` to process the elements of a sequence one at a time.\n",
    "* The body of a `for` loop must be indented.\n",
    "* Use `glob.glob(pattern)` to create a list of files whose names match a pattern.\n",
    "* Use `*` in a pattern to match zero or more characters, and `?` to match any single character.\n",
    "\n",
    "### Questions?"
   ]
  },
  {
   "cell_type": "markdown",
   "id": "aa066dd1",
   "metadata": {},
   "source": [
    "# Breakout Session 2"
   ]
  },
  {
   "cell_type": "markdown",
   "id": "c9a51e87",
   "metadata": {},
   "source": [
    "# Exercise 3 - Change in inflammation\n",
    "\n",
    "The patient data is longitudinal in the sense that each row represents a series of observations relating to one individual. This means that the change in inflammation over time is a meaningful concept.\n",
    "\n",
    "The `numpy.diff()` function takes an array and returns the differences between two successive values. Let’s use it to examine the changes each day across the first week of patient 3 from our inflammation dataset:"
   ]
  },
  {
   "cell_type": "code",
   "execution_count": null,
   "id": "247619a3",
   "metadata": {},
   "outputs": [],
   "source": [
    "# Load data\n",
    "import numpy\n",
    "data = numpy.loadtxt(fname='../data/inflammation-01.csv', delimiter=',')"
   ]
  },
  {
   "cell_type": "code",
   "execution_count": null,
   "id": "1ba9dc9c",
   "metadata": {},
   "outputs": [],
   "source": [
    "patient3_week1 = data[3, :7]\n",
    "print(patient3_week1)"
   ]
  },
  {
   "cell_type": "code",
   "execution_count": null,
   "id": "0fc71fdb",
   "metadata": {},
   "outputs": [],
   "source": [
    "patient3_week1 = data[3, :7]\n",
    "print(patient3_week1)"
   ]
  },
  {
   "cell_type": "markdown",
   "id": "36f6fb74",
   "metadata": {},
   "source": [
    "Calling `numpy.diff(patient3_week1)` would do the following calculations"
   ]
  },
  {
   "cell_type": "code",
   "execution_count": null,
   "id": "7f282fba",
   "metadata": {},
   "outputs": [],
   "source": [
    "numpy.diff(patient3_week1)"
   ]
  },
  {
   "cell_type": "markdown",
   "id": "1fa9b66b",
   "metadata": {},
   "source": [
    "### Questions\n",
    "\n",
    "1. When calling `numpy.diff()` with a multi-dimensional array, an axis argument may be passed to the function to specify which axis to process. When applying `numpy.diff()` to our 2D inflammation array data, which axis would we specify?"
   ]
  },
  {
   "cell_type": "markdown",
   "id": "ce94cb15",
   "metadata": {},
   "source": [
    "Since the row axis (0) is patients, it does not make sense to get the difference between two arbitrary patients. The column axis (1) is in days, so the difference is the change in inflammation – a meaningful concept."
   ]
  },
  {
   "cell_type": "code",
   "execution_count": null,
   "id": "68807626",
   "metadata": {},
   "outputs": [],
   "source": [
    "# Solution\n",
    "numpy.diff(data, axis=1)"
   ]
  },
  {
   "cell_type": "markdown",
   "id": "2ff33167",
   "metadata": {},
   "source": [
    "# End of part 1"
   ]
  },
  {
   "cell_type": "code",
   "execution_count": null,
   "id": "033b3b89",
   "metadata": {},
   "outputs": [],
   "source": []
  }
 ],
 "metadata": {
  "celltoolbar": "Slideshow",
  "kernelspec": {
   "display_name": "Python 3",
   "language": "python",
   "name": "python3"
  },
  "language_info": {
   "codemirror_mode": {
    "name": "ipython",
    "version": 3
   },
   "file_extension": ".py",
   "mimetype": "text/x-python",
   "name": "python",
   "nbconvert_exporter": "python",
   "pygments_lexer": "ipython3",
   "version": "3.9.5"
  }
 },
 "nbformat": 4,
 "nbformat_minor": 5
}
