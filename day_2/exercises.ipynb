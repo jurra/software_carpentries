{
 "cells": [
  {
   "cell_type": "code",
   "execution_count": 4,
   "id": "70722473",
   "metadata": {
    "slideshow": {
     "slide_type": "skip"
    }
   },
   "outputs": [],
   "source": [
    "import sys\n",
    "import numpy"
   ]
  },
  {
   "cell_type": "markdown",
   "id": "6fa574dc",
   "metadata": {
    "slideshow": {
     "slide_type": "slide"
    }
   },
   "source": [
    "## Software Carpentry - Python part 2\n",
    "\n",
    "12:40 - Recap of yesterday  \n",
    "12:50 - 5.Making choices (conditional statements)  \n",
    "13:15 - 6.Creating functions  \n",
    "13:40 - Exercises in Breakout Room\n",
    "\n",
    "**14:00 - Coffee break**  \n",
    "\n",
    "14:15 - 7.Errors and exceptions   \n",
    "14:40 - 8.Defensive programming  \n",
    "15:05 - 9.Debugging\n",
    "\n",
    "**15:30 - Coffee break**  \n",
    "\n",
    "15:45 - 10.Command-line programs  \n",
    "16:30 - Exercises in Breakout Room  \n",
    "16:50 - Wrap up  "
   ]
  },
  {
   "cell_type": "markdown",
   "id": "9e19b337",
   "metadata": {},
   "source": [
    "# Recap part 1\n",
    "\n",
    "**Goal: Analysis inflammation data**\n",
    "1. Python fundamentals on variables and lists\n",
    "1. Import and analyse data with `numpy`\n",
    "1. Create figure with subplots using `matplotlib.pyplot`\n",
    "1. Repeat analysis in a for-loop together with `glob`\n",
    "\n",
    "**Today**\n",
    "1. Catch suspicious datasets with conditional statements\n",
    "1. Create reusable function with the analysis\n",
    "\n"
   ]
  },
  {
   "cell_type": "markdown",
   "id": "498d7db4",
   "metadata": {},
   "source": [
    "# 5. Making choices with conditionals\n",
    "\n",
    "In our last lesson, we discovered something suspicious was going on in our inflammation data by drawing some plots. How can we use Python to automatically recognize the different features we saw, and take a different action for each? In this lesson, we’ll learn how to write code that runs only when certain conditions are true."
   ]
  },
  {
   "cell_type": "markdown",
   "id": "7fa86191",
   "metadata": {
    "slideshow": {
     "slide_type": "subslide"
    }
   },
   "source": [
    "# Exercise 5 - How many paths?\n",
    "\n",
    "Consider this code:\n",
    "\n",
    "```python\n",
    "if 4 > 5:\n",
    "    print('A')\n",
    "elif 4 == 5:\n",
    "    print('B')\n",
    "elif 4 < 5:\n",
    "    print('C')\n",
    "```\n",
    "\n",
    "Which of the following would be printed if you were to run this code? Why did you pick this answer?\n",
    "\n",
    "1. A\n",
    "1. B\n",
    "1. C\n",
    "1. B and C"
   ]
  },
  {
   "cell_type": "code",
   "execution_count": 1,
   "id": "209423c5",
   "metadata": {},
   "outputs": [
    {
     "name": "stdout",
     "output_type": "stream",
     "text": [
      "not greater\n",
      "done\n"
     ]
    }
   ],
   "source": [
    "# if-statement\n",
    "num = 37\n",
    "if num > 100: # notice colon\n",
    "    print('greater') # notice indentation\n",
    "else:\n",
    "    print('not greater')\n",
    "print('done')"
   ]
  },
  {
   "cell_type": "code",
   "execution_count": 2,
   "id": "c0b9c1a2",
   "metadata": {},
   "outputs": [
    {
     "name": "stdout",
     "output_type": "stream",
     "text": [
      "before conditional\n",
      "after conditional\n"
     ]
    }
   ],
   "source": [
    "num = 54\n",
    "print('before conditional')\n",
    "if num > 100:\n",
    "    print(num, 'is greater than 100')\n",
    "print('after conditional')"
   ]
  },
  {
   "cell_type": "code",
   "execution_count": null,
   "id": "51e53f6b",
   "metadata": {},
   "outputs": [],
   "source": [
    "# Chain multiple if-statements\n",
    "num = -3\n",
    "\n",
    "if num > 0:\n",
    "    print(num, 'is positive')\n",
    "elif num == 0: \n",
    "    print(num, 'is zero')\n",
    "else:\n",
    "    print(num, 'is negative')\n"
   ]
  },
  {
   "cell_type": "code",
   "execution_count": null,
   "id": "ed41c523",
   "metadata": {},
   "outputs": [],
   "source": [
    "# Difference between == and =\n",
    "print(num == 4)\n",
    "num = 4 \n",
    "print(num == 4)"
   ]
  },
  {
   "cell_type": "code",
   "execution_count": null,
   "id": "f9912868",
   "metadata": {},
   "outputs": [],
   "source": [
    "# Combine comparisons with 'and'\n",
    "if (1 > 0) and (-1 >= 0): # best practice to use parentheses\n",
    "    print('both parts are true')\n",
    "else:\n",
    "    print('at least one part is false')"
   ]
  },
  {
   "cell_type": "code",
   "execution_count": null,
   "id": "6a9d048e",
   "metadata": {},
   "outputs": [],
   "source": [
    "# Combine with 'or'\n",
    "if (1 > 0) or (-1 >= 0):\n",
    "    print('at least one test is true')"
   ]
  },
  {
   "cell_type": "code",
   "execution_count": 5,
   "id": "8e23dc54",
   "metadata": {},
   "outputs": [
    {
     "name": "stdout",
     "output_type": "stream",
     "text": [
      "[ 0.  1.  2.  3.  4.  5.  6.  7.  8.  9. 10. 11. 12. 13. 14. 15. 16. 17.\n",
      " 18. 19. 20. 19. 18. 17. 16. 15. 14. 13. 12. 11. 10.  9.  8.  7.  6.  5.\n",
      "  4.  3.  2.  1.]\n"
     ]
    }
   ],
   "source": [
    "# Let's inspect max values of the first dataset\n",
    "data = numpy.loadtxt(fname='data/inflammation-01.csv', delimiter=',')\n",
    "\n",
    "max_inflammation = numpy.max(data, axis=0)\n",
    "print(max_inflammation)"
   ]
  },
  {
   "cell_type": "code",
   "execution_count": 7,
   "id": "32d1fa46",
   "metadata": {},
   "outputs": [
    {
     "name": "stdout",
     "output_type": "stream",
     "text": [
      "Suspicious looking maxima!\n"
     ]
    }
   ],
   "source": [
    "# Let use day_0 == 0 and day_20 == 20\n",
    "if (max_inflammation[0] == 0) and (max_inflammation[20] == 20):\n",
    "    print('Suspicious looking maxima!')"
   ]
  },
  {
   "cell_type": "code",
   "execution_count": 9,
   "id": "157be0c6",
   "metadata": {},
   "outputs": [
    {
     "name": "stdout",
     "output_type": "stream",
     "text": [
      "[0. 0. 0. 0. 0. 0. 0. 0. 0. 0. 0. 0. 0. 0. 0. 0. 0. 0. 0. 0. 0. 0. 0. 0.\n",
      " 0. 0. 0. 0. 0. 0. 0. 0. 0. 0. 0. 0. 0. 0. 0. 0.]\n"
     ]
    }
   ],
   "source": [
    "data = numpy.loadtxt(fname='data/inflammation-03.csv', delimiter=',')\n",
    "\n",
    "min_inflammation = numpy.min(data, axis=0)\n",
    "print(min_inflammation)"
   ]
  },
  {
   "cell_type": "code",
   "execution_count": 10,
   "id": "6ef36ce8",
   "metadata": {},
   "outputs": [
    {
     "name": "stdout",
     "output_type": "stream",
     "text": [
      "Minima add up to zero\n"
     ]
    }
   ],
   "source": [
    "# Let's use sum == 0\n",
    "if numpy.sum(min_inflammation) == 0:\n",
    "    print('Minima add up to zero')"
   ]
  },
  {
   "cell_type": "markdown",
   "id": "8e1177d7",
   "metadata": {},
   "source": [
    "### Optional: Let's test all our datasets\n",
    "\n",
    "1. Find files\n",
    "1. Create for-loop over filenames\n",
    "1. Load data\n",
    "1. Test data"
   ]
  },
  {
   "cell_type": "code",
   "execution_count": null,
   "id": "2b629111",
   "metadata": {},
   "outputs": [],
   "source": [
    "# Demonstrate how we can reuse a function to run the code bellow\n",
    "\n",
    "filenames = glob.glob('data/inflammation*.csv')  # Store all the file names in memory\n",
    "\n",
    "for filename in filenames:                       # Do the following code for each file name stored    \n",
    "    data = numpy.loadtxt(fname=filename, delimiter=',')\n",
    "    \n",
    "    # Data to test\n",
    "    max_inflammation = numpy.max(data, axis=0)\n",
    "    min_inflammation = numpy.min(data, axis=0)\n",
    "    \n",
    "    if (max_inflammation[0] == 0) and (max_inflammation[20] == 20):\n",
    "        print('Suspicious looking maxima in:', filename) \n",
    "    elif numpy.sum(min_inflammation) == 0:\n",
    "        print('Minima add up to zero in:', filename) \n",
    "    else:\n",
    "        print(filename, ' looks OK') "
   ]
  },
  {
   "cell_type": "markdown",
   "id": "c7fe4039",
   "metadata": {},
   "source": [
    "# 6. What is a function and how to create it"
   ]
  },
  {
   "cell_type": "code",
   "execution_count": null,
   "id": "77b4eabb",
   "metadata": {},
   "outputs": [],
   "source": [
    "# Demonstrate simple functions"
   ]
  },
  {
   "cell_type": "code",
   "execution_count": null,
   "id": "fa486052",
   "metadata": {},
   "outputs": [],
   "source": [
    "# Explain arguments (Default and non-default parameters)"
   ]
  },
  {
   "cell_type": "code",
   "execution_count": null,
   "id": "7db6016e",
   "metadata": {},
   "outputs": [],
   "source": [
    "# A function that calls a function"
   ]
  },
  {
   "cell_type": "markdown",
   "id": "729bb587",
   "metadata": {
    "slideshow": {
     "slide_type": "subslide"
    }
   },
   "source": [
    "# Exercise 6 - Mixing Default and Non-Default Parameters \n",
    "\n",
    "Given the following code:\n",
    "\n",
    "```python\n",
    "def numbers(one, two=2, three, four=4):\n",
    "    n = str(one) + str(two) + str(three) + str(four)\n",
    "    return n\n",
    "\n",
    "print(numbers(1, three=3))\n",
    "```\n",
    "\n",
    "What do you expect will be printed? What is actually printed? What rule do you think Python is following?\n",
    "1. `1234`\n",
    "1. `one2three4`\n",
    "1. `1239`\n",
    "1. `SyntaxError`"
   ]
  },
  {
   "cell_type": "code",
   "execution_count": 12,
   "id": "71f250c1",
   "metadata": {},
   "outputs": [],
   "source": [
    "# Test the numbers function"
   ]
  },
  {
   "cell_type": "markdown",
   "id": "cf484a18",
   "metadata": {
    "slideshow": {
     "slide_type": "slide"
    }
   },
   "source": [
    "# Breakout Session 1\n",
    "\n"
   ]
  },
  {
   "cell_type": "markdown",
   "id": "d0dcf1bc",
   "metadata": {
    "slideshow": {
     "slide_type": "subslide"
    }
   },
   "source": [
    "# Exercise 7 - Rescaling an array\n",
    "\n",
    "Write a function `rescale` that takes an array as input and returns a corresponding array of values scaled to lie in the range 0.0 to 1.0. \n",
    "\n",
    "Hint: If `L` and `H` are the lowest and highest values in the original array, then the replacement for a value `v` should be `(v-L) / (H-L)`."
   ]
  },
  {
   "cell_type": "code",
   "execution_count": 2,
   "id": "537a3d82",
   "metadata": {},
   "outputs": [],
   "source": [
    "# Your solution"
   ]
  },
  {
   "cell_type": "markdown",
   "id": "ce2497c9",
   "metadata": {
    "slideshow": {
     "slide_type": "subslide"
    }
   },
   "source": [
    "Run the commands `help(numpy.arange)` and `help(numpy.linspace)` to see how to use these functions to generate regularly-spaced values, then use those values to test your `rescale` function. Once you’ve successfully tested your function, add a docstring that explains what it does."
   ]
  },
  {
   "cell_type": "code",
   "execution_count": 3,
   "id": "cc80d267",
   "metadata": {
    "slideshow": {
     "slide_type": "-"
    }
   },
   "outputs": [
    {
     "name": "stdout",
     "output_type": "stream",
     "text": [
      "[0.         0.11111111 0.22222222 0.33333333 0.44444444 0.55555556\n",
      " 0.66666667 0.77777778 0.88888889 1.        ]\n",
      "[0.   0.25 0.5  0.75 1.  ]\n"
     ]
    }
   ],
   "source": [
    "# Your solution"
   ]
  },
  {
   "cell_type": "markdown",
   "id": "6befd593",
   "metadata": {
    "slideshow": {
     "slide_type": "subslide"
    }
   },
   "source": [
    "### Optional\n",
    "Rewrite the rescale function so that it scales data to lie between `0.0` and `1.0` by default, but will allow the caller to specify lower and upper bounds if they want. Compare your implementation to your neighbor’s: do the two functions always behave the same way?"
   ]
  },
  {
   "cell_type": "code",
   "execution_count": 4,
   "id": "e1c5b414",
   "metadata": {
    "slideshow": {
     "slide_type": "-"
    }
   },
   "outputs": [],
   "source": [
    "# Your solution"
   ]
  },
  {
   "cell_type": "markdown",
   "id": "296acb4d",
   "metadata": {},
   "source": [
    "# 7. Errors and Exceptions"
   ]
  },
  {
   "cell_type": "code",
   "execution_count": null,
   "id": "525c1f16",
   "metadata": {},
   "outputs": [],
   "source": [
    "# Instructor demonstrates errors and exceptions"
   ]
  },
  {
   "cell_type": "markdown",
   "id": "5d625ca9",
   "metadata": {},
   "source": [
    "# 8. Defensive Programming"
   ]
  },
  {
   "cell_type": "code",
   "execution_count": null,
   "id": "16fd0931",
   "metadata": {},
   "outputs": [],
   "source": [
    "# Instructor demonstrates defensive programming example"
   ]
  },
  {
   "cell_type": "markdown",
   "id": "76dd3d64",
   "metadata": {},
   "source": [
    "# 9. Debugging "
   ]
  },
  {
   "cell_type": "code",
   "execution_count": null,
   "id": "a8a7f93a",
   "metadata": {},
   "outputs": [],
   "source": [
    "# Instructor demonstrates debugging example"
   ]
  },
  {
   "cell_type": "markdown",
   "id": "08d6aab7",
   "metadata": {},
   "source": [
    "# 10 Command-line Programs"
   ]
  },
  {
   "cell_type": "code",
   "execution_count": null,
   "id": "35a71f8a",
   "metadata": {},
   "outputs": [],
   "source": [
    "# Use command-line script\n",
    "# Create a readings_06.py script"
   ]
  },
  {
   "cell_type": "markdown",
   "id": "f422dd06",
   "metadata": {
    "slideshow": {
     "slide_type": "slide"
    }
   },
   "source": [
    "# Breakout Session 2"
   ]
  },
  {
   "cell_type": "markdown",
   "id": "a63d834d",
   "metadata": {
    "slideshow": {
     "slide_type": "subslide"
    }
   },
   "source": [
    "# Exercise 9 - Adding a Help Message\n",
    "Create a copy of `readings_06.py` and modify it so that if no parameters are given (i.e., no action is specified and no filenames are given), it prints a message explaining how it should be used."
   ]
  },
  {
   "cell_type": "code",
   "execution_count": 7,
   "id": "60ababe2",
   "metadata": {},
   "outputs": [],
   "source": [
    "# Add a help message"
   ]
  },
  {
   "cell_type": "markdown",
   "id": "e313a4f7",
   "metadata": {
    "slideshow": {
     "slide_type": "subslide"
    }
   },
   "source": [
    "# Exercise 10 - Adding a help message\n",
    "\n",
    "Create a copy of `readings_06.py` and modify it so that if no action is given it displays the means of the data."
   ]
  },
  {
   "cell_type": "markdown",
   "id": "3707cea6",
   "metadata": {
    "slideshow": {
     "slide_type": "subslide"
    }
   },
   "source": [
    "# Bonus exercise - Finding Particular Files\n",
    "\n",
    "Using the `glob` module introduced earlier, write a simple version of `ls` that shows files in the current directory with a particular suffix. A call to this script could look like this:\n",
    "\n",
    "```bash\n",
    "$ python my_ls.py py\n",
    "```\n",
    "\n",
    "with a possible output of:\n",
    "\n",
    "```bash\n",
    "readings_01.py\n",
    "readings_02.py\n",
    "readings_03.py\n",
    "...\n",
    "```"
   ]
  }
 ],
 "metadata": {
  "celltoolbar": "Slideshow",
  "kernelspec": {
   "display_name": "Python 3",
   "language": "python",
   "name": "python3"
  },
  "language_info": {
   "codemirror_mode": {
    "name": "ipython",
    "version": 3
   },
   "file_extension": ".py",
   "mimetype": "text/x-python",
   "name": "python",
   "nbconvert_exporter": "python",
   "pygments_lexer": "ipython3",
   "version": "3.9.5"
  }
 },
 "nbformat": 4,
 "nbformat_minor": 5
}
