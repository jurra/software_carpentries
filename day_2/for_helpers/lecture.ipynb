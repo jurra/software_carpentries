{
 "cells": [
  {
   "cell_type": "code",
   "execution_count": 30,
   "id": "5791b254",
   "metadata": {
    "slideshow": {
     "slide_type": "skip"
    }
   },
   "outputs": [],
   "source": [
    "from IPython import display\n",
    "import numpy"
   ]
  },
  {
   "cell_type": "markdown",
   "id": "e73ed4ee",
   "metadata": {
    "slideshow": {
     "slide_type": "subslide"
    }
   },
   "source": [
    "## Software Carpentry - Python part 2\n",
    "\n",
    "12:40 - Recap of yesterday  \n",
    "12:50 - Making choices (conditional statements)  \n",
    "13:15 - Creating functions  \n",
    "13:40 - Exercises in Breakout Room\n",
    "\n",
    "**14:00 - Coffee break**  \n",
    "\n",
    "14:15 - Errors and exceptions   \n",
    "14:40 - Defensive programming  \n",
    "15:05 - Debugging\n",
    "\n",
    "**15:30 - Coffee break**  \n",
    "\n",
    "15:45 - Command-line programs  \n",
    "16:30 - Exercises in Breakout Room  \n",
    "16:50 - Wrap up  "
   ]
  },
  {
   "cell_type": "markdown",
   "id": "e26ac5a3",
   "metadata": {
    "slideshow": {
     "slide_type": "subslide"
    }
   },
   "source": [
    "# Recap part 1\n",
    "\n",
    "**Goal: Analysis inflammation data**\n",
    "1. Python fundamentals on variables and lists\n",
    "1. Import and analyse data with `numpy`\n",
    "1. Create figure with subplots using `matplotlib.pyplot`\n",
    "1. Repeat analysis in a for-loop together with `glob`\n",
    "\n",
    "**Today**\n",
    "1. Catch suspicious datasets with conditional statements\n",
    "1. Create reusable function with the analysis\n",
    "\n"
   ]
  },
  {
   "cell_type": "markdown",
   "id": "7144ebd0",
   "metadata": {
    "slideshow": {
     "slide_type": "slide"
    }
   },
   "source": [
    "# 5. Making choices\n",
    "\n"
   ]
  },
  {
   "cell_type": "markdown",
   "id": "b6643faf",
   "metadata": {},
   "source": [
    "# Exercise 5 - How many paths?\n",
    "\n",
    "Consider this code:\n",
    "\n",
    "```python\n",
    "if 4 > 5:\n",
    "    print('A')\n",
    "elif 4 == 5:\n",
    "    print('B')\n",
    "elif 4 < 5:\n",
    "    print('C')\n",
    "```\n",
    "\n",
    "Which of the following would be printed if you were to run this code? Why did you pick this answer?\n",
    "\n",
    "1. A\n",
    "1. B\n",
    "1. C\n",
    "1. B and C"
   ]
  },
  {
   "cell_type": "code",
   "execution_count": 31,
   "id": "f1d84940",
   "metadata": {},
   "outputs": [
    {
     "name": "stdout",
     "output_type": "stream",
     "text": [
      "not greater\n",
      "done\n"
     ]
    }
   ],
   "source": [
    "# if-statement\n",
    "num = 37\n",
    "if num > 100: # notice colon\n",
    "    print('greater') # notice indentation\n",
    "else:\n",
    "    print('not greater')\n",
    "print('done')"
   ]
  },
  {
   "cell_type": "code",
   "execution_count": 32,
   "id": "3406f02a",
   "metadata": {},
   "outputs": [
    {
     "name": "stdout",
     "output_type": "stream",
     "text": [
      "before conditional\n",
      "after conditional\n"
     ]
    }
   ],
   "source": [
    "num = 54\n",
    "print('before conditional')\n",
    "if num > 100:\n",
    "    print(num, 'is greater than 100')\n",
    "print('after conditional')"
   ]
  },
  {
   "cell_type": "code",
   "execution_count": 33,
   "id": "821a3634",
   "metadata": {},
   "outputs": [
    {
     "name": "stdout",
     "output_type": "stream",
     "text": [
      "-3 is negative\n"
     ]
    }
   ],
   "source": [
    "# Chain multiple if-statements\n",
    "num = -3\n",
    "\n",
    "if num > 0:\n",
    "    print(num, 'is positive')\n",
    "elif num == 0: \n",
    "    print(num, 'is zero')\n",
    "else:\n",
    "    print(num, 'is negative')"
   ]
  },
  {
   "cell_type": "code",
   "execution_count": 34,
   "id": "8cd2c699",
   "metadata": {},
   "outputs": [
    {
     "name": "stdout",
     "output_type": "stream",
     "text": [
      "False\n",
      "True\n"
     ]
    }
   ],
   "source": [
    "# Difference between == and =\n",
    "print(num == 4)\n",
    "num = 4 \n",
    "print(num == 4)"
   ]
  },
  {
   "cell_type": "code",
   "execution_count": 35,
   "id": "042044ad",
   "metadata": {},
   "outputs": [
    {
     "name": "stdout",
     "output_type": "stream",
     "text": [
      "at least one part is false\n"
     ]
    }
   ],
   "source": [
    "# Combine comparisons with 'and'\n",
    "if (1 > 0) and (-1 >= 0): # best practice to use parentheses\n",
    "    print('both parts are true')\n",
    "else:\n",
    "    print('at least one part is false')"
   ]
  },
  {
   "cell_type": "code",
   "execution_count": 36,
   "id": "462e21e4",
   "metadata": {},
   "outputs": [
    {
     "name": "stdout",
     "output_type": "stream",
     "text": [
      "at least one test is true\n"
     ]
    }
   ],
   "source": [
    "# Combine with 'or'\n",
    "if (1 > 0) or (-1 >= 0):\n",
    "    print('at least one test is true')"
   ]
  },
  {
   "cell_type": "code",
   "execution_count": 37,
   "id": "56b52e13",
   "metadata": {},
   "outputs": [
    {
     "name": "stdout",
     "output_type": "stream",
     "text": [
      "[ 0.  1.  2.  3.  4.  5.  6.  7.  8.  9. 10. 11. 12. 13. 14. 15. 16. 17.\n",
      " 18. 19. 20. 19. 18. 17. 16. 15. 14. 13. 12. 11. 10.  9.  8.  7.  6.  5.\n",
      "  4.  3.  2.  1.]\n"
     ]
    }
   ],
   "source": [
    "# Let's inspect max values of the first dataset\n",
    "data = numpy.loadtxt(fname='../data/inflammation-01.csv', delimiter=',')\n",
    "\n",
    "max_inflammation = numpy.max(data, axis=0)\n",
    "print(max_inflammation)"
   ]
  },
  {
   "cell_type": "code",
   "execution_count": 38,
   "id": "b3810db5",
   "metadata": {},
   "outputs": [],
   "source": [
    "# Let's use sum == 0\n",
    "if numpy.sum(min_inflammation) == 0:\n",
    "    print('Minima add up to zero')"
   ]
  },
  {
   "cell_type": "markdown",
   "id": "dbf13981",
   "metadata": {},
   "source": [
    "### Optional: Let's test all our datasets\n",
    "\n",
    "1. Find files\n",
    "1. Create for-loop over filenames\n",
    "1. Load data\n",
    "1. Test data"
   ]
  },
  {
   "cell_type": "code",
   "execution_count": 39,
   "id": "8d1947eb",
   "metadata": {},
   "outputs": [
    {
     "name": "stdout",
     "output_type": "stream",
     "text": [
      "Suspicious looking maxima in: ../data/inflammation-02.csv\n",
      "Suspicious looking maxima in: ../data/inflammation-10.csv\n",
      "Minima add up to zero in: ../data/inflammation-11.csv\n",
      "Suspicious looking maxima in: ../data/inflammation-06.csv\n",
      "Suspicious looking maxima in: ../data/inflammation-01.csv\n",
      "Suspicious looking maxima in: ../data/inflammation-05.csv\n",
      "Minima add up to zero in: ../data/inflammation-03.csv\n",
      "Suspicious looking maxima in: ../data/inflammation-12.csv\n",
      "Suspicious looking maxima in: ../data/inflammation-07.csv\n",
      "Minima add up to zero in: ../data/inflammation-08.csv\n",
      "Suspicious looking maxima in: ../data/inflammation-09.csv\n",
      "Suspicious looking maxima in: ../data/inflammation-04.csv\n"
     ]
    }
   ],
   "source": [
    "# Demonstrate how we can reuse a function to run the code bellow\n",
    "import glob\n",
    "import numpy\n",
    "\n",
    "filenames = glob.glob('../data/inflammation*.csv')  # Store all the file names in memory\n",
    "\n",
    "for filename in filenames:                       # Do the following code for each file name stored    \n",
    "    data = numpy.loadtxt(fname=filename, delimiter=',')\n",
    "    \n",
    "    # Data to test\n",
    "    max_inflammation = numpy.max(data, axis=0)\n",
    "    min_inflammation = numpy.min(data, axis=0)\n",
    "    \n",
    "    if (max_inflammation[0] == 0) and (max_inflammation[20] == 20):\n",
    "        print('Suspicious looking maxima in:', filename) \n",
    "    elif numpy.sum(min_inflammation) == 0:\n",
    "        print('Minima add up to zero in:', filename) \n",
    "    else:\n",
    "        print(filename, ' looks OK') "
   ]
  },
  {
   "cell_type": "markdown",
   "id": "9fae1eac",
   "metadata": {},
   "source": [
    "### Key points\n",
    "\n",
    "* Use `if condition` to start a conditional statement, `elif condition` to provide additional tests, and `else` to provide a default.\n",
    "* The bodies of the branches of conditional statements must be indented.\n",
    "* Use `==` to test for equality.\n",
    "* `X and Y` is only true if both `X` and `Y` are true.\n",
    "* `X or Y` is true if either `X` or `Y`, or both, are true.\n",
    "* True and False represent truth values.\n",
    "\n",
    "### Questions?"
   ]
  },
  {
   "cell_type": "code",
   "execution_count": 40,
   "id": "6f0c5159",
   "metadata": {},
   "outputs": [],
   "source": [
    "# Turning our for loop into a function"
   ]
  },
  {
   "cell_type": "markdown",
   "id": "1ddc1b11",
   "metadata": {
    "slideshow": {
     "slide_type": "slide"
    }
   },
   "source": [
    "# 6. What is a function and how to create it\n",
    "\n"
   ]
  },
  {
   "cell_type": "code",
   "execution_count": 41,
   "id": "f9e88bb9",
   "metadata": {},
   "outputs": [],
   "source": [
    "# Demonstrate simple functions\n",
    "\n",
    "# Explain arguments (Default and non-default parameters)\n",
    "\n",
    "# A function that calls a function\n",
    "\n",
    "# Examples:\n",
    "def s(p):\n",
    "    a = 0\n",
    "    for v in p:\n",
    "        a += v\n",
    "    m = a / len(p)\n",
    "    d = 0\n",
    "    for v in p:\n",
    "        d += (v - m) * (v - m)\n",
    "    return numpy.sqrt(d / (len(p) - 1))\n",
    "\n",
    "def std_dev(sample):\n",
    "    sample_sum = 0\n",
    "    for value in sample:\n",
    "        sample_sum += value\n",
    "\n",
    "    sample_mean = sample_sum / len(sample)\n",
    "\n",
    "    sum_squared_devs = 0\n",
    "    for value in sample:\n",
    "        sum_squared_devs += (value - sample_mean) * (value - sample_mean)\n",
    "\n",
    "    return numpy.sqrt(sum_squared_devs / (len(sample) - 1))"
   ]
  },
  {
   "cell_type": "markdown",
   "id": "e428d4ce",
   "metadata": {},
   "source": [
    "# Exercise 6 - Mixing Default and Non-Default Parameters \n",
    "\n",
    "Given the following code:\n",
    "\n",
    "```python\n",
    "def numbers(one, two=2, three, four=4):\n",
    "    n = str(one) + str(two) + str(three) + str(four)\n",
    "    return n\n",
    "\n",
    "print(numbers(1, three=3))\n",
    "```\n",
    "\n",
    "What do you expect will be printed? What is actually printed? What rule do you think Python is following?\n",
    "1. `1234`\n",
    "1. `one2three4`\n",
    "1. `1239`\n",
    "1. `SyntaxError`"
   ]
  },
  {
   "cell_type": "code",
   "execution_count": 42,
   "id": "5d5039a2",
   "metadata": {},
   "outputs": [
    {
     "ename": "SyntaxError",
     "evalue": "non-default argument follows default argument (<ipython-input-42-23cd32300a79>, line 2)",
     "output_type": "error",
     "traceback": [
      "\u001b[0;36m  File \u001b[0;32m\"<ipython-input-42-23cd32300a79>\"\u001b[0;36m, line \u001b[0;32m2\u001b[0m\n\u001b[0;31m    def numbers(one, two=2, three, four=4):\u001b[0m\n\u001b[0m                                   ^\u001b[0m\n\u001b[0;31mSyntaxError\u001b[0m\u001b[0;31m:\u001b[0m non-default argument follows default argument\n"
     ]
    }
   ],
   "source": [
    "# There will be a syntax error\n",
    "def numbers(one, two=2, three, four=4):\n",
    "    n = str(one) + str(two) + str(three) + str(four)\n",
    "    return n\n",
    "\n",
    "print(numbers(1, three=3))"
   ]
  },
  {
   "cell_type": "markdown",
   "id": "765d4f8b",
   "metadata": {},
   "source": [
    "# Solution\n",
    "\n",
    "This example shows us what Python rules are when it comes to providing input parameters to functions.\n",
    "\n",
    "The **SyntaxError** shows us the problem is in the definition of the function: \n",
    "\n",
    "<span style=\"color:red\">SyntaxError: </span> non-default argument follows default argument\n",
    "\n",
    "The defined parameters `two` and `four` are given **default values**. Because `one` and `three` are not given default values, they are required to be placed before any parameters that have default values."
   ]
  },
  {
   "cell_type": "markdown",
   "id": "9c5e3592",
   "metadata": {},
   "source": [
    "* Define a function using `def function_name(parameter)`.\n",
    "* The body of a function must be indented.\n",
    "* Call a function using function_name(value).\n",
    "* Variables defined within a function can only be seen and used within the body of the function.\n",
    "* Use help(thing) to view help for something.\n",
    "* Put docstrings in functions to provide help for that function.\n",
    "* Specify default values for parameters when defining a function using name=value in the parameter list.\n",
    "* Readability"
   ]
  },
  {
   "cell_type": "markdown",
   "id": "9ad304f0",
   "metadata": {},
   "source": [
    "# Breakout Session 1"
   ]
  },
  {
   "cell_type": "markdown",
   "id": "f6e68061",
   "metadata": {},
   "source": [
    "# Exercise 7 - Rescaling an array\n",
    "\n",
    "Write a function `rescale` that takes an array as input and returns a corresponding array of values scaled to lie in the range 0.0 to 1.0. \n",
    "\n",
    "Hint: If `L` and `H` are the lowest and highest values in the original array, then the replacement for a value `v` should be `(v-L) / (H-L)`."
   ]
  },
  {
   "cell_type": "code",
   "execution_count": null,
   "id": "c817dd02",
   "metadata": {},
   "outputs": [],
   "source": [
    "data = numpy.arange(10.0)\n",
    "data"
   ]
  },
  {
   "cell_type": "code",
   "execution_count": null,
   "id": "0acf99ae",
   "metadata": {},
   "outputs": [],
   "source": [
    "# Solution\n",
    "def rescale(input_array):\n",
    "    '''\n",
    "    Takes a numpy array and returns a corresponging numpy array of values scaled to lie in the range of 0.0 to 1.0\n",
    "    '''\n",
    "    L = numpy.min(input_array)\n",
    "    H = numpy.max(input_array)\n",
    "    output_array = (input_array - L) / (H - L)\n",
    "    return output_array"
   ]
  },
  {
   "cell_type": "markdown",
   "id": "26c0f3dd",
   "metadata": {},
   "source": [
    "Run the commands `help(numpy.arange)` and `help(numpy.linspace)` to see how to use these functions to generate regularly-spaced values, then use those values to test your `rescale` function. Once you’ve successfully tested your function, add a docstring that explains what it does."
   ]
  },
  {
   "cell_type": "code",
   "execution_count": 43,
   "id": "6630e6e1",
   "metadata": {},
   "outputs": [
    {
     "name": "stdout",
     "output_type": "stream",
     "text": [
      "Help on function rescale in module __main__:\n",
      "\n",
      "rescale(input_array, low_val=0.0, high_val=1.0)\n",
      "    rescales input array values to lie between low_val and high_val\n",
      "\n"
     ]
    }
   ],
   "source": [
    "help(rescale)"
   ]
  },
  {
   "cell_type": "code",
   "execution_count": null,
   "id": "95b027dc",
   "metadata": {},
   "outputs": [],
   "source": [
    "rescale(numpy.arange(10.0))"
   ]
  },
  {
   "cell_type": "markdown",
   "id": "14cd2bfc",
   "metadata": {},
   "source": [
    "### Optional\n",
    "Rewrite the rescale function so that it scales data to lie between `0.0` and `1.0` by default, but will allow the caller to specify lower and upper bounds if they want. Compare your implementation to your neighbor’s: do the two functions always behave the same way?"
   ]
  },
  {
   "cell_type": "code",
   "execution_count": null,
   "id": "f4a052ba",
   "metadata": {},
   "outputs": [],
   "source": [
    "# Solution\n",
    "def rescale(input_array, low_val=0.0, high_val=1.0):\n",
    "    \"\"\"rescales input array values to lie between low_val and high_val\"\"\"\n",
    "    L = numpy.min(input_array)\n",
    "    H = numpy.max(input_array)\n",
    "    intermed_array = (input_array - L) / (H - L)\n",
    "    output_array = intermed_array * (high_val - low_val) + low_val\n",
    "    return output_array"
   ]
  },
  {
   "cell_type": "markdown",
   "id": "5b47931d",
   "metadata": {
    "slideshow": {
     "slide_type": "slide"
    }
   },
   "source": [
    "# 7. Errors and Exceptions\n",
    "\n"
   ]
  },
  {
   "cell_type": "markdown",
   "id": "72ef0f9d",
   "metadata": {},
   "source": [
    "### Key points\n",
    "* Tracebacks can look intimidating, but they give us a lot of useful information about what went wrong in our program, including where the error occurred and what type of error it was.\n",
    "* An error having to do with the ‘grammar’ or syntax of the program is called a `SyntaxError`. If the issue has to do with how the code is indented, then it will be called an `IndentationError`.\n",
    "* A `NameError` will occur when trying to use a variable that does not exist. \n",
    "* Containers like lists and strings will generate errors if you try to access items in them that do not exist. This type of error is called an `IndexError`.\n",
    "* Trying to read a file that does not exist will give you an `FileNotFoundError`. \n",
    "\n",
    "\n",
    "### Questions?"
   ]
  },
  {
   "cell_type": "markdown",
   "id": "e99e04f5",
   "metadata": {
    "slideshow": {
     "slide_type": "slide"
    }
   },
   "source": [
    "# 8. Defensive Programming"
   ]
  },
  {
   "cell_type": "markdown",
   "id": "0ae0f5d3",
   "metadata": {},
   "source": [
    "\n",
    "### Key points\n",
    "\n",
    "* Program defensively, i.e., assume that errors are going to arise, and write code to detect them when they do.\n",
    "* Put assertions in programs to check their state as they run, and to help readers understand how those programs are supposed to work.\n",
    "* Use preconditions to check that the inputs to a function are safe to use.\n",
    "* Use postconditions to check that the output from a function is safe to use.\n",
    "\n",
    "### Questions?"
   ]
  },
  {
   "cell_type": "markdown",
   "id": "bda09656",
   "metadata": {},
   "source": [
    "# Breakout Session 2"
   ]
  },
  {
   "cell_type": "markdown",
   "id": "2ba7eb12",
   "metadata": {},
   "source": [
    "# Exercise 9 - Adding a Help Message\n",
    "Create a copy of `readings_06.py` and modify it so that if no parameters are given (i.e., no action is specified and no filenames are given), it prints a message explaining how it should be used."
   ]
  },
  {
   "cell_type": "code",
   "execution_count": null,
   "id": "3249ab05",
   "metadata": {},
   "outputs": [],
   "source": [
    "# Add a help message"
   ]
  },
  {
   "cell_type": "markdown",
   "id": "c982d862",
   "metadata": {},
   "source": [
    "# Exercise 10 - Adding a help message\n",
    "\n",
    "Create a copy of `readings_06.py` and modify it so that if no action is given it displays the means of the data."
   ]
  },
  {
   "cell_type": "markdown",
   "id": "41aeb36f",
   "metadata": {},
   "source": [
    "# Bonus exercise - Finding Particular Files\n",
    "\n",
    "Using the `glob` module introduced earlier, write a simple version of `ls` that shows files in the current directory with a particular suffix. A call to this script could look like this:\n",
    "\n",
    "```bash\n",
    "$ python my_ls.py py\n",
    "```\n",
    "\n",
    "with a possible output of:\n",
    "\n",
    "```bash\n",
    "readings_01.py\n",
    "readings_02.py\n",
    "readings_03.py\n",
    "...\n",
    "```"
   ]
  },
  {
   "cell_type": "markdown",
   "id": "2162ae76",
   "metadata": {
    "slideshow": {
     "slide_type": "slide"
    }
   },
   "source": [
    "# 9. Debugging\n",
    "\n",
    "When your tests uncovered problems or you are encountering errors, the next step is to fix them. We can set up a guide on how to approach debugging your code:\n",
    "\n",
    "1. **Know what your program is supposed to do.** The statement _\"it doesn't work\"_ is not very helpful, make use of the error traceback for example.\n",
    "1. **Test with simplified (dummy) data.** Similarly to our inflammation analysis, first check your program with a single data set that you understand, before scaling up. \n",
    "1. **Test a simplified case.**  If our program is supposed to simulate magnetic eddies in rapidly-rotating blobs of supercooled helium, our first test should be a blob of helium that isn’t rotating, and isn’t being subjected to any external electromagnetic fields.\n",
    "1. **Compare to an oracle.** An orcacle is a program, device, data set, or human being against which the results of a test can be compared.\n",
    "1. **Check conservation laws.** Mass, energy, and other quantities are conserved in physical systems, so they should be in programs as well. Similarly, if we are analyzing patient data, the number of records should either stay the same or decrease as we move from one analysis to the next (since we might throw away outliers or records with missing values).\n",
    "1. **Visualize.** You can spot problems with the data analysis by frequently creating simple plots."
   ]
  },
  {
   "cell_type": "markdown",
   "id": "a626eb5f",
   "metadata": {
    "slideshow": {
     "slide_type": "subslide"
    }
   },
   "source": [
    "### Make it fail ...\n",
    "\n",
    "**Every time**\n",
    "There's nothing worse than an intermittent problem: if we have to call a function a dozen times to get a single failure, the odds are good that we’ll scroll past the failure when it actually occurs.\n",
    "* Check the environment: correct folder, correct data, correct parameters, correct installed libraries, ...\n",
    "\n",
    "**Fast**\n",
    "* If it takes 20 min for a bug to pop up (example during a simulation), it becomes very difficult to resolve the issue effectively\n",
    "* The smaller the gap between cause and effect, the easier the connection is to find. Divide and conquer!\n"
   ]
  },
  {
   "cell_type": "markdown",
   "id": "3cfb99e7",
   "metadata": {
    "slideshow": {
     "slide_type": "slide"
    }
   },
   "source": [
    "# 10. Command-Line Programs\n"
   ]
  },
  {
   "cell_type": "markdown",
   "id": "1b12ff4f",
   "metadata": {},
   "source": [
    "### Key points\n",
    "* The `sys` library connects a Python program to the system it is running on.\n",
    "* The list `sys.argv` contains the command-line arguments that a program was run with.\n",
    "* The pseudo-file `sys.stdin` connects to a program’s standard input.\n",
    "\n",
    "### Questions?"
   ]
  },
  {
   "cell_type": "code",
   "execution_count": null,
   "id": "b5b1b0f4",
   "metadata": {},
   "outputs": [],
   "source": []
  }
 ],
 "metadata": {
  "celltoolbar": "Slideshow",
  "kernelspec": {
   "display_name": "Python 3",
   "language": "python",
   "name": "python3"
  },
  "language_info": {
   "codemirror_mode": {
    "name": "ipython",
    "version": 3
   },
   "file_extension": ".py",
   "mimetype": "text/x-python",
   "name": "python",
   "nbconvert_exporter": "python",
   "pygments_lexer": "ipython3",
   "version": "3.9.5"
  }
 },
 "nbformat": 4,
 "nbformat_minor": 5
}
