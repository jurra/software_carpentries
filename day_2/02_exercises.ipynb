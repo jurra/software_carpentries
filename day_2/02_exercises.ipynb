{
 "cells": [
  {
   "cell_type": "code",
   "execution_count": 1,
   "id": "5611ea26",
   "metadata": {
    "slideshow": {
     "slide_type": "skip"
    }
   },
   "outputs": [],
   "source": [
    "import sys\n",
    "import numpy"
   ]
  },
  {
   "cell_type": "markdown",
   "id": "e49f6f86",
   "metadata": {
    "slideshow": {
     "slide_type": "slide"
    }
   },
   "source": [
    "# Plenary exercises"
   ]
  },
  {
   "cell_type": "markdown",
   "id": "6294950f",
   "metadata": {
    "slideshow": {
     "slide_type": "subslide"
    }
   },
   "source": [
    "# Exercise 5 - How many paths?\n",
    "\n",
    "Consider this codeL\n",
    "\n",
    "```python\n",
    "if 4 > 5:\n",
    "    print('A')\n",
    "elif 4 == 5:\n",
    "    print('B')\n",
    "elif 4 < 5:\n",
    "    print('C')\n",
    "```\n",
    "\n",
    "Which of the following would be printed if you were to run this code? Why did you pick this answer?\n",
    "\n",
    "1. A\n",
    "1. B\n",
    "1. C\n",
    "1. B and C"
   ]
  },
  {
   "cell_type": "markdown",
   "id": "0e17b022",
   "metadata": {
    "slideshow": {
     "slide_type": "fragment"
    }
   },
   "source": [
    "\n",
    "**Answer:** C gets printed because the first two conditions, `4 > 5` and `4 == 5`, are not true, but `4 < 5` is true."
   ]
  },
  {
   "cell_type": "markdown",
   "id": "1e015ede",
   "metadata": {
    "slideshow": {
     "slide_type": "subslide"
    }
   },
   "source": [
    "# Exersize 6 - Mixing Default and Non-Default Parameters \n",
    "\n",
    "Given the following code:\n",
    "\n",
    "```python\n",
    "def numbers(one, two=2, three, four=4):\n",
    "    n = str(one) + str(two) + str(three) + str(four)\n",
    "    return n\n",
    "\n",
    "print(numbers(1, three=3))\n",
    "```\n",
    "\n",
    "What do you expect will be printed? What is actually printed? What rule do you think Python is following?\n",
    "1. `1234`\n",
    "1. `one2three4`\n",
    "1. `1239`\n",
    "1. `SyntaxError`"
   ]
  },
  {
   "cell_type": "markdown",
   "id": "a489612e",
   "metadata": {
    "slideshow": {
     "slide_type": "subslide"
    }
   },
   "source": [
    "# Solution\n",
    "\n",
    "This example shows us what Python rules are when it comes to providing input parameters to functions.\n",
    "\n",
    "The **SyntaxError** shows us the problem is in the definition of the function: \n",
    "\n",
    "<span style=\"color:red\">SyntaxError: </span> non-default argument follows default argument\n",
    "\n",
    "The defined parameters `two` and `four` are given **default values**. Because `one` and `three` are not given default values, they are required to be placed before any parameters that have default values."
   ]
  },
  {
   "cell_type": "markdown",
   "id": "2d30d8f0",
   "metadata": {
    "slideshow": {
     "slide_type": "slide"
    }
   },
   "source": [
    "# Breakout Session 1\n",
    "\n"
   ]
  },
  {
   "cell_type": "markdown",
   "id": "fbcd5a52",
   "metadata": {
    "slideshow": {
     "slide_type": "subslide"
    }
   },
   "source": [
    "# Exercise 7 - Rescaling an array\n",
    "\n",
    "Write a function `rescale` that takes an array as input and returns a corresponding array of values scaled to lie in the range 0.0 to 1.0. \n",
    "\n",
    "Hint: If `L` and `H` are the lowest and highest values in the original array, then the replacement for a value `v` should be `(v-L) / (H-L)`."
   ]
  },
  {
   "cell_type": "markdown",
   "id": "9ba14a4e",
   "metadata": {
    "slideshow": {
     "slide_type": "subslide"
    }
   },
   "source": [
    "# Solution"
   ]
  },
  {
   "cell_type": "code",
   "execution_count": 2,
   "id": "96cd8a1c",
   "metadata": {},
   "outputs": [],
   "source": [
    "def rescale(input_array):\n",
    "    L = numpy.min(input_array)\n",
    "    H = numpy.max(input_array)\n",
    "    output_array = (input_array - L) / (H - L)\n",
    "    return output_array"
   ]
  },
  {
   "cell_type": "markdown",
   "id": "0ffc11bd",
   "metadata": {
    "slideshow": {
     "slide_type": "subslide"
    }
   },
   "source": [
    "Run the commands `help(numpy.arange)` and `help(numpy.linspace)` to see how to use these functions to generate regularly-spaced values, then use those values to test your `rescale` function. Once you’ve successfully tested your function, add a docstring that explains what it does."
   ]
  },
  {
   "cell_type": "markdown",
   "id": "a1d8b399",
   "metadata": {
    "slideshow": {
     "slide_type": "subslide"
    }
   },
   "source": [
    "# Solution"
   ]
  },
  {
   "cell_type": "code",
   "execution_count": 3,
   "id": "f4fc0f92",
   "metadata": {
    "slideshow": {
     "slide_type": "-"
    }
   },
   "outputs": [
    {
     "name": "stdout",
     "output_type": "stream",
     "text": [
      "[0.         0.11111111 0.22222222 0.33333333 0.44444444 0.55555556\n",
      " 0.66666667 0.77777778 0.88888889 1.        ]\n",
      "[0.   0.25 0.5  0.75 1.  ]\n"
     ]
    }
   ],
   "source": [
    "def rescale(input_array):\n",
    "    \"\"\"Takes an array as input, and returns a corresponding array scaled so\n",
    "    that 0 corresponds to the minimum and 1 to the maximum value of the input array.\n",
    "    \"\"\"\n",
    "    L = numpy.min(input_array)\n",
    "    H = numpy.max(input_array)\n",
    "    output_array = (input_array - L) / (H - L)\n",
    "    return output_array\n",
    "\n",
    "print(rescale(numpy.arange(10.0)))\n",
    "print(rescale(numpy.linspace(0, 100, 5)))"
   ]
  },
  {
   "cell_type": "markdown",
   "id": "85b56d7f",
   "metadata": {
    "slideshow": {
     "slide_type": "subslide"
    }
   },
   "source": [
    "### Optional\n",
    "Rewrite the rescale function so that it scales data to lie between `0.0` and `1.0` by default, but will allow the caller to specify lower and upper bounds if they want. Compare your implementation to your neighbor’s: do the two functions always behave the same way?"
   ]
  },
  {
   "cell_type": "markdown",
   "id": "7bb6a486",
   "metadata": {
    "slideshow": {
     "slide_type": "subslide"
    }
   },
   "source": [
    "# Solution"
   ]
  },
  {
   "cell_type": "code",
   "execution_count": 4,
   "id": "7230bd3a",
   "metadata": {
    "slideshow": {
     "slide_type": "-"
    }
   },
   "outputs": [],
   "source": [
    "def rescale(input_array, low_val=0.0, high_val=1.0):\n",
    "    \"\"\"Takes an array as input, and returns a corresponding array scaled so\n",
    "    that low_val corresponds to the minimum and high_val to the maximum value of the input array.\n",
    "    \"\"\"\n",
    "    L = numpy.min(input_array)\n",
    "    H = numpy.max(input_array)\n",
    "    intermed_array = (input_array - L) / (H - L)\n",
    "    output_array = intermed_array * (high_val - low_val) + low_val\n",
    "    return output_array"
   ]
  },
  {
   "cell_type": "markdown",
   "id": "0415a5fb",
   "metadata": {
    "slideshow": {
     "slide_type": "slide"
    }
   },
   "source": [
    "# Planary exercises"
   ]
  },
  {
   "cell_type": "markdown",
   "id": "5a5921cc",
   "metadata": {
    "slideshow": {
     "slide_type": "subslide"
    }
   },
   "source": [
    "# Exercise 8 - Debugging\n",
    "\n",
    "You are assisting a researcher with Python code that computes the Body Mass Index (BMI) of patients. The researcher is concerned because all patients seemingly have unusual and identical BMIs, despite having different physiques. BMI is calculated as **weight in kilograms** divided by the square of **height in metres**.\n",
    "\n",
    "Use the debugging principles in this exercise and locate problems with the code. What suggestions would you give the researcher for ensuring any later changes they make work correctly? What bugs do you spot?"
   ]
  },
  {
   "cell_type": "code",
   "execution_count": 5,
   "id": "e0de3b05",
   "metadata": {},
   "outputs": [
    {
     "name": "stdout",
     "output_type": "stream",
     "text": [
      "Patient's BMI is 0.000367\n",
      "Patient's BMI is 0.000367\n",
      "Patient's BMI is 0.000367\n"
     ]
    }
   ],
   "source": [
    "patients = [[70, 1.8], [80, 1.9], [150, 1.7]]\n",
    "\n",
    "def calculate_bmi(weight, height):\n",
    "    return weight / (height ** 2)\n",
    "\n",
    "for patient in patients:\n",
    "    weight, height = patients[0]\n",
    "    bmi = calculate_bmi(height, weight)\n",
    "    print(f\"Patient's BMI is {bmi:f}\") "
   ]
  },
  {
   "cell_type": "markdown",
   "id": "9157590d",
   "metadata": {
    "slideshow": {
     "slide_type": "subslide"
    }
   },
   "source": [
    "## Suggestions for debugging\n",
    "* Add printing statement in the `calculate_bmi` function, like `print('weight:', weight, 'height:', height)`, to make clear what the BMI is based on.\n",
    "\n",
    "* Change `print(f\"Patient's BMI is {bmi:f}\")` to `print(f\"Patient's BMI (weight: {weight}, height: {height} is: {bmi:f}\")`, in order to be able to distinguish bugs in the function from bugs in the loop."
   ]
  },
  {
   "cell_type": "code",
   "execution_count": 6,
   "id": "38ff9eb3",
   "metadata": {},
   "outputs": [
    {
     "name": "stdout",
     "output_type": "stream",
     "text": [
      "Patient's BMI is 0.000367\n",
      "Patient's BMI is 0.000367\n",
      "Patient's BMI is 0.000367\n"
     ]
    }
   ],
   "source": [
    "patients = [[70, 1.8], [80, 1.9], [150, 1.7]]\n",
    "\n",
    "def calculate_bmi(weight, height):\n",
    "    return weight / (height ** 2)\n",
    "    # add print statement\n",
    "\n",
    "for patient in patients:\n",
    "    weight, height = patients[0]\n",
    "    bmi = calculate_bmi(height, weight)\n",
    "    print(f\"Patient's BMI is {bmi:f}\")\n",
    "    # change print statement"
   ]
  },
  {
   "cell_type": "markdown",
   "id": "71315df1",
   "metadata": {
    "slideshow": {
     "slide_type": "subslide"
    }
   },
   "source": [
    "# Solution\n",
    "\n",
    "### Bugs found\n",
    "* The loop is not being utilised correctly. `height` and `weight` are always set as the first patient’s data during each iteration of the loop:\n",
    "\n",
    "```python\n",
    "weight, height = patients[0]\n",
    "```\n",
    "\n",
    "* The height/weight variables are reversed in the function call to `calculate_bmi(...)`:\n",
    "\n",
    "```python\n",
    "bmi = calculate_bmi(height, weight)\n",
    "```\n",
    "\n",
    "* The correct BMIs are 21.604938, 22.160665 and 51.903114.\n"
   ]
  },
  {
   "cell_type": "markdown",
   "id": "31beec3b",
   "metadata": {
    "slideshow": {
     "slide_type": "slide"
    }
   },
   "source": [
    "# Breakout Session 2"
   ]
  },
  {
   "cell_type": "markdown",
   "id": "d44a38ae",
   "metadata": {
    "slideshow": {
     "slide_type": "subslide"
    }
   },
   "source": [
    "# Exercise 9 - Adding a Help Message\n",
    "Create a copy of `readings_06.py` and modify it so that if no parameters are given (i.e., no action is specified and no filenames are given), it prints a message explaining how it should be used."
   ]
  },
  {
   "cell_type": "markdown",
   "id": "329ffb5a",
   "metadata": {
    "slideshow": {
     "slide_type": "subslide"
    }
   },
   "source": [
    "# Solution"
   ]
  },
  {
   "cell_type": "code",
   "execution_count": 7,
   "id": "06cfe22d",
   "metadata": {},
   "outputs": [],
   "source": [
    "def main():\n",
    "    script = sys.argv[0]\n",
    "    if len(sys.argv) == 1: # no arguments, so print help message\n",
    "        print(\"\"\"Usage: python readings_08.py action filenames\n",
    "              action must be one of --min --mean --max\n",
    "              if filenames is blank, input is taken from stdin;\n",
    "              otherwise, each filename in the list of arguments is processed in turn\"\"\")\n",
    "        return\n",
    "\n",
    "    action = sys.argv[1]\n",
    "    filenames = sys.argv[2:]\n",
    "    assert action in ['--min', '--mean', '--max'], \\\n",
    "           'Action is not one of --min, --mean, or --max: ' + action\n",
    "    if len(filenames) == 0:\n",
    "        process(sys.stdin, action)\n",
    "    else:\n",
    "        for filename in filenames:\n",
    "            process(filename, action)"
   ]
  },
  {
   "cell_type": "markdown",
   "id": "7bf57a7e",
   "metadata": {
    "slideshow": {
     "slide_type": "subslide"
    }
   },
   "source": [
    "# Exercise 10 - Adding a help message\n",
    "\n",
    "Create a copy of `readings_06.py` and modify it so that if no action is given it displays the means of the data."
   ]
  },
  {
   "cell_type": "markdown",
   "id": "77a366ad",
   "metadata": {
    "slideshow": {
     "slide_type": "subslide"
    }
   },
   "source": [
    "# Solution"
   ]
  },
  {
   "cell_type": "code",
   "execution_count": 8,
   "id": "98404071",
   "metadata": {
    "slideshow": {
     "slide_type": "-"
    }
   },
   "outputs": [],
   "source": [
    "def main():\n",
    "    script = sys.argv[0]\n",
    "    action = sys.argv[1]\n",
    "    if action not in ['--min', '--mean', '--max']: # if no action given\n",
    "        action = '--mean'    # set a default action, that being mean\n",
    "        filenames = sys.argv[1:] # start the filenames one place earlier in the argv list\n",
    "    else:\n",
    "        filenames = sys.argv[2:]\n",
    "\n",
    "    if len(filenames) == 0:\n",
    "        process(sys.stdin, action)\n",
    "    else:\n",
    "        for filename in filenames:\n",
    "            process(filename, action)"
   ]
  },
  {
   "cell_type": "markdown",
   "id": "9f01e0a9",
   "metadata": {
    "slideshow": {
     "slide_type": "subslide"
    }
   },
   "source": [
    "# Bonus exercise - Finding Particular Files\n",
    "\n",
    "Using the `glob` module introduced earlier, write a simple version of `ls` that shows files in the current directory with a particular suffix. A call to this script could look like this:\n",
    "\n",
    "```bash\n",
    "$ python my_ls.py py\n",
    "```\n",
    "\n",
    "with a possible output of:\n",
    "\n",
    "```bash\n",
    "readings_01.py\n",
    "readings_02.py\n",
    "readings_03.py\n",
    "...\n",
    "```"
   ]
  },
  {
   "cell_type": "markdown",
   "id": "99f79895",
   "metadata": {
    "slideshow": {
     "slide_type": "subslide"
    }
   },
   "source": [
    "# Solution"
   ]
  },
  {
   "cell_type": "markdown",
   "id": "768d5e89",
   "metadata": {},
   "source": [
    "```python\n",
    "import sys\n",
    "import glob\n",
    "\n",
    "def main():\n",
    "    \"\"\"prints names of all files with sys.argv as suffix\"\"\"\n",
    "    assert len(sys.argv) >= 2, 'Argument list cannot be empty'\n",
    "    suffix = sys.argv[1] # NB: behaviour is not as you'd expect if sys.argv[1] is *\n",
    "    glob_input = '*.' + suffix # construct the input\n",
    "    glob_output = sorted(glob.glob(glob_input)) # call the glob function\n",
    "    for item in glob_output: # print the output\n",
    "        print(item)\n",
    "    return\n",
    "\n",
    "if name == '__main__':\n",
    "    main()\n",
    "```"
   ]
  },
  {
   "cell_type": "code",
   "execution_count": 9,
   "id": "1c2359cd",
   "metadata": {
    "slideshow": {
     "slide_type": "skip"
    }
   },
   "outputs": [
    {
     "name": "stderr",
     "output_type": "stream",
     "text": [
      "[NbConvertApp] Converting notebook python_exercises_2.ipynb to slides\n",
      "[NbConvertApp] Writing 596500 bytes to python_exercises_2.slides.html\n"
     ]
    }
   ],
   "source": [
    "# THIS SHOULD BE THE LAST CELL\n",
    "\n",
    "# Convert notebook\n",
    "!jupyter nbconvert python_exercises_2.ipynb --to slides"
   ]
  }
 ],
 "metadata": {
  "celltoolbar": "Slideshow",
  "kernelspec": {
   "display_name": "Python 3 (ipykernel)",
   "language": "python",
   "name": "python3"
  },
  "language_info": {
   "codemirror_mode": {
    "name": "ipython",
    "version": 3
   },
   "file_extension": ".py",
   "mimetype": "text/x-python",
   "name": "python",
   "nbconvert_exporter": "python",
   "pygments_lexer": "ipython3",
   "version": "3.8.5"
  }
 },
 "nbformat": 4,
 "nbformat_minor": 5
}
