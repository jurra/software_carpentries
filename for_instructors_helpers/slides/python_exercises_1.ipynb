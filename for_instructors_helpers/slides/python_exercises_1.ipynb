{
 "cells": [
  {
   "cell_type": "markdown",
   "id": "288c5316",
   "metadata": {
    "slideshow": {
     "slide_type": "slide"
    }
   },
   "source": [
    "# Breakout Session 1"
   ]
  },
  {
   "cell_type": "markdown",
   "id": "4e902061",
   "metadata": {
    "slideshow": {
     "slide_type": "subslide"
    }
   },
   "source": [
    "# Exercise 1 - Slicing strings\n",
    "A section of an array is called a _slice_. We can take slices of character strings as well:"
   ]
  },
  {
   "cell_type": "code",
   "execution_count": 1,
   "id": "e394a9f6",
   "metadata": {},
   "outputs": [
    {
     "name": "stdout",
     "output_type": "stream",
     "text": [
      "first three characters: oxy\n",
      "last three characters: gen\n"
     ]
    }
   ],
   "source": [
    "element = \"oxygen\"\n",
    "print('first three characters:', element[0:3])\n",
    "print('last three characters:', element[3:6])"
   ]
  },
  {
   "cell_type": "markdown",
   "id": "554160ea",
   "metadata": {},
   "source": [
    "What is the value of `element[4]`? What about `element[4:]`? Or `element[:]`?\n",
    "What is `element[-1]`? What is `element[-3:]`?"
   ]
  },
  {
   "cell_type": "markdown",
   "id": "5f208ac4",
   "metadata": {
    "slideshow": {
     "slide_type": "subslide"
    }
   },
   "source": [
    "# Solution"
   ]
  },
  {
   "cell_type": "code",
   "execution_count": 2,
   "id": "54ba6c61",
   "metadata": {},
   "outputs": [
    {
     "name": "stdout",
     "output_type": "stream",
     "text": [
      "fifth character: e\n",
      "characters fifth until end: en\n",
      "all elements: oxygen\n",
      "last element: n\n",
      "last three characters: gen\n"
     ]
    }
   ],
   "source": [
    "element = \"oxygen\"\n",
    "print('fifth character:', element[4])\n",
    "print('characters fifth until end:', element[4:])\n",
    "print('all elements:', element[:])\n",
    "print('last element:', element[-1])\n",
    "print('last three characters:', element[-3:])"
   ]
  },
  {
   "cell_type": "markdown",
   "id": "37946ca8",
   "metadata": {
    "slideshow": {
     "slide_type": "subslide"
    }
   },
   "source": [
    "# Exercise 2 - Slicing lists with steps\n",
    "\n",
    "So far we’ve seen how to use slicing to take single blocks of successive entries from a sequence. But what if we want to take a subset of entries that aren’t next to each other in the sequence? You can achieve this by providing a third argument to the range within the brackets, called the step size. \n",
    "\n",
    "The full sytax for creating slices is `[begin:end:step]`, although you most often find a short-hand notation as we've seen in Exercise 1. \n",
    "\n",
    "The example below shows how you can take every third entry in a list:"
   ]
  },
  {
   "cell_type": "code",
   "execution_count": 3,
   "id": "866201a5",
   "metadata": {},
   "outputs": [
    {
     "name": "stdout",
     "output_type": "stream",
     "text": [
      "subset [2, 7, 17, 29]\n"
     ]
    }
   ],
   "source": [
    "primes = [2, 3, 5, 7, 11, 13, 17, 19, 23, 29, 31, 37]\n",
    "subset = primes[0:12:3]\n",
    "print('subset', subset)"
   ]
  },
  {
   "cell_type": "markdown",
   "id": "e9fd0a09",
   "metadata": {
    "slideshow": {
     "slide_type": "subslide"
    }
   },
   "source": [
    "Given the following list of months:"
   ]
  },
  {
   "cell_type": "code",
   "execution_count": 4,
   "id": "c37dbf7c",
   "metadata": {},
   "outputs": [],
   "source": [
    "months = ['jan', 'feb', 'mar', 'apr', 'may', 'jun', 'jul', 'aug', 'sep', 'oct', 'nov', 'dec']"
   ]
  },
  {
   "cell_type": "markdown",
   "id": "8aef0d59",
   "metadata": {},
   "source": [
    "### Questions\n",
    "\n",
    "1. What slice of `months` will produce the following output `['jan', 'mar', 'may', 'jul', 'sep', nov']`?\n",
    "\n",
    "1. Given the short-hand notation we used for the character string in Exercise 1 (i.e. `element[:2] == 'element[0:2]`), can you find the short-hand notation for question 1? What do you find easier to read?\n",
    "\n",
    "1. Using the step size parameter, can you think of a way to reverse the list?"
   ]
  },
  {
   "cell_type": "markdown",
   "id": "24a0ef3d",
   "metadata": {
    "slideshow": {
     "slide_type": "subslide"
    }
   },
   "source": [
    "# Solution"
   ]
  },
  {
   "cell_type": "code",
   "execution_count": 5,
   "id": "f4cd4bce",
   "metadata": {},
   "outputs": [
    {
     "name": "stdout",
     "output_type": "stream",
     "text": [
      "verbose: ['jan', 'mar', 'may', 'jul', 'sep', 'nov']\n",
      "short-hand: ['jan', 'mar', 'may', 'jul', 'sep', 'nov']\n",
      "reversed list: ['dec', 'nov', 'oct', 'sep', 'aug', 'jul', 'jun', 'may', 'apr', 'mar', 'feb', 'jan']\n"
     ]
    }
   ],
   "source": [
    "# Verbose solution\n",
    "print('verbose:', months[0:12:2])\n",
    "\n",
    "# Short-hand solution\n",
    "print('short-hand:', months[::2])\n",
    "\n",
    "# List reversal\n",
    "print('reversed list:', months[::-1]) # verbose: months[12:0:-1]"
   ]
  },
  {
   "cell_type": "markdown",
   "id": "e1c8f5c1",
   "metadata": {
    "slideshow": {
     "slide_type": "slide"
    }
   },
   "source": [
    "# Breakout Session 2"
   ]
  },
  {
   "cell_type": "markdown",
   "id": "620d461d",
   "metadata": {
    "slideshow": {
     "slide_type": "subslide"
    }
   },
   "source": [
    "# Exercise 3 - Change in inflammation\n",
    "\n",
    "The patient data is longitudinal in the sense that each row represents a series of observations relating to one individual. This means that the change in inflammation over time is a meaningful concept.\n",
    "\n",
    "The `numpy.diff()` function takes an array and returns the differences between two successive values. Let’s use it to examine the changes each day across the first week of patient 3 from our inflammation dataset:"
   ]
  },
  {
   "cell_type": "code",
   "execution_count": 6,
   "id": "3f8703c8",
   "metadata": {
    "slideshow": {
     "slide_type": "skip"
    }
   },
   "outputs": [],
   "source": [
    "# Load data\n",
    "import numpy\n",
    "data = numpy.loadtxt(fname='data/inflammation-01.csv', delimiter=',')"
   ]
  },
  {
   "cell_type": "code",
   "execution_count": 7,
   "id": "33e338fe",
   "metadata": {},
   "outputs": [
    {
     "name": "stdout",
     "output_type": "stream",
     "text": [
      "[0. 0. 2. 0. 4. 2. 2.]\n"
     ]
    }
   ],
   "source": [
    "patient3_week1 = data[3, :7]\n",
    "print(patient3_week1)"
   ]
  },
  {
   "cell_type": "markdown",
   "id": "331797df",
   "metadata": {},
   "source": [
    "Calling `numpy.diff(patient3_week1)` would do the following calculations"
   ]
  },
  {
   "cell_type": "code",
   "execution_count": 8,
   "id": "6edd17e9",
   "metadata": {},
   "outputs": [
    {
     "data": {
      "text/plain": [
       "array([ 0.,  2., -2.,  4., -2.,  0.])"
      ]
     },
     "execution_count": 8,
     "metadata": {},
     "output_type": "execute_result"
    }
   ],
   "source": [
    "numpy.diff(patient3_week1)"
   ]
  },
  {
   "cell_type": "markdown",
   "id": "fa7e23fd",
   "metadata": {
    "slideshow": {
     "slide_type": "subslide"
    }
   },
   "source": [
    "### Questions\n",
    "\n",
    "1. When calling `numpy.diff()` with a multi-dimensional array, an axis argument may be passed to the function to specify which axis to process. When applying `numpy.diff()` to our 2D inflammation array data, which axis would we specify?\n",
    "\n",
    "1. If the shape of an individual data file is `(60, 40)` (60 rows and 40 columns), what would the `shape` of the array be after you run the `diff()` function and why?\n",
    "\n",
    "1. How would you find the **largest change** in inflammation for each patient?"
   ]
  },
  {
   "cell_type": "markdown",
   "id": "2f17af66",
   "metadata": {
    "slideshow": {
     "slide_type": "subslide"
    }
   },
   "source": [
    "# Solution"
   ]
  },
  {
   "cell_type": "markdown",
   "id": "382385a8",
   "metadata": {},
   "source": [
    "1) Using axis=0, means it will calculate the consecutive difference between patients (considering all days). Using axis=1 means it will calculate the consecutive difference between days (considering all patients). Since it is more useful to see what happens to all patients as they go through the clinical trial, it makes more sense to see overall how the number of inflammation episodes change for the patients between consecutive days."
   ]
  },
  {
   "cell_type": "code",
   "execution_count": 9,
   "id": "68a78194",
   "metadata": {},
   "outputs": [
    {
     "data": {
      "text/plain": [
       "array([[ 0.,  1.,  2., ...,  1., -3.,  0.],\n",
       "       [ 1.,  1., -1., ...,  0., -1.,  1.],\n",
       "       [ 1.,  0.,  2., ...,  0., -1.,  0.],\n",
       "       ...,\n",
       "       [ 1.,  0.,  0., ..., -1.,  0.,  0.],\n",
       "       [ 0.,  0.,  1., ..., -2.,  2., -2.],\n",
       "       [ 0.,  1., -1., ..., -2.,  0., -1.]])"
      ]
     },
     "execution_count": 9,
     "metadata": {},
     "output_type": "execute_result"
    }
   ],
   "source": [
    "numpy.diff(data, axis=1)"
   ]
  },
  {
   "cell_type": "markdown",
   "id": "db28c4f2",
   "metadata": {
    "slideshow": {
     "slide_type": "subslide"
    }
   },
   "source": [
    "2) The shape will be `(60, 39)` because there is one fewer difference between columns than there are columns in the data.\n",
    "\n",
    "3) By using the `numpy.max()` function after you apply the `numpy.diff()` function, you will get the largest difference between days."
   ]
  },
  {
   "cell_type": "code",
   "execution_count": 10,
   "id": "e461bc26",
   "metadata": {},
   "outputs": [
    {
     "data": {
      "text/plain": [
       "array([ 7., 12., 11., 10., 11., 13., 10.,  8., 10., 10.,  7.,  7., 13.,\n",
       "        7., 10., 10.,  8., 10.,  9., 10., 13.,  7., 12.,  9., 12., 11.,\n",
       "       10., 10.,  7., 10., 11., 10.,  8., 11., 12., 10.,  9., 10., 13.,\n",
       "       10.,  7.,  7., 10., 13., 12.,  8.,  8., 10., 10.,  9.,  8., 13.,\n",
       "       10.,  7., 10.,  8., 12., 10.,  7., 12.])"
      ]
     },
     "execution_count": 10,
     "metadata": {},
     "output_type": "execute_result"
    }
   ],
   "source": [
    "numpy.max(numpy.diff(data, axis=1), axis=1)"
   ]
  },
  {
   "cell_type": "markdown",
   "id": "2d741e48",
   "metadata": {},
   "source": [
    "Alternatively, `numpy.diff(data, axis=1).max(axis=1)` also works. Furhtermore, it can be extended with `.shape` to check the size: `numpy.diff(data, axis=1).max(axis=1).shape`"
   ]
  },
  {
   "cell_type": "markdown",
   "id": "1c1d8d4f",
   "metadata": {
    "slideshow": {
     "slide_type": "subslide"
    }
   },
   "source": [
    "# Exercise 4 - Plotting differences\n",
    "\n",
    "Plot the difference between the average inflammations reported in the first and second datasets (stored in `inflammation-01.csv` and `inflammation-02.csv`, correspondingly), i.e., the difference between the leftmost plots of the first two figures we have plotted so far. \n",
    "\n",
    "Steps:\n",
    "1. Import libraries\n",
    "1. Import data\n",
    "1. Calculate difference\n",
    "1. Create and annotate figure"
   ]
  },
  {
   "cell_type": "markdown",
   "id": "ddf33274",
   "metadata": {
    "slideshow": {
     "slide_type": "subslide"
    }
   },
   "source": [
    "# Solution"
   ]
  },
  {
   "cell_type": "code",
   "execution_count": 11,
   "id": "34b13709",
   "metadata": {},
   "outputs": [
    {
     "data": {
      "image/png": "[encoded data removed]",
      "text/plain": [
       "<Figure size 720x216 with 1 Axes>"
      ]
     },
     "metadata": {
      "needs_background": "light"
     },
     "output_type": "display_data"
    }
   ],
   "source": [
    "# Import libraries\n",
    "import glob\n",
    "import numpy\n",
    "import matplotlib.pyplot as plt\n",
    "\n",
    "# Import data\n",
    "filenames = sorted(glob.glob('data/inflammation*.csv'))\n",
    "\n",
    "# Calculate difference\n",
    "data0 = numpy.loadtxt(fname=filenames[0], delimiter=',')\n",
    "data1 = numpy.loadtxt(fname=filenames[1], delimiter=',')\n",
    "difference = numpy.mean(data0, axis=0) - numpy.mean(data1, axis=0)\n",
    "\n",
    "# Create and annotate figure\n",
    "fig = plt.figure(figsize=(10.0, 3.0))\n",
    "\n",
    "plt.xlabel('Day')\n",
    "plt.ylabel('Difference in average')\n",
    "plt.plot(difference)\n",
    "\n",
    "fig.tight_layout()\n",
    "plt.show()"
   ]
  },
  {
   "cell_type": "code",
   "execution_count": 12,
   "id": "1c2359cd",
   "metadata": {
    "slideshow": {
     "slide_type": "skip"
    }
   },
   "outputs": [
    {
     "name": "stderr",
     "output_type": "stream",
     "text": [
      "[NbConvertApp] Converting notebook python_exercises_1.ipynb to slides\n",
      "[NbConvertApp] Writing 618508 bytes to python_exercises_1.slides.html\n"
     ]
    }
   ],
   "source": [
    "# THIS SHOULD BE THE LAST CELL\n",
    "\n",
    "# Convert notebook\n",
    "!jupyter nbconvert python_exercises_1.ipynb --to slides"
   ]
  }
 ],
 "metadata": {
  "celltoolbar": "Slideshow",
  "kernelspec": {
   "display_name": "Python 3 (ipykernel)",
   "language": "python",
   "name": "python3"
  },
  "language_info": {
   "codemirror_mode": {
    "name": "ipython",
    "version": 3
   },
   "file_extension": ".py",
   "mimetype": "text/x-python",
   "name": "python",
   "nbconvert_exporter": "python",
   "pygments_lexer": "ipython3",
   "version": "3.8.5"
  }
 },
 "nbformat": 4,
 "nbformat_minor": 5
}
