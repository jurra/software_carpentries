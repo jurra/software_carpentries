{
 "cells": [
  {
   "cell_type": "markdown",
   "id": "c493549c",
   "metadata": {},
   "source": [
    "### Organizing modular code\n",
    "\n",
    "We can move the functions out of the notebook and into a python script (`processing.py`). We can now easily import the functions in our notebook.\n",
    "\n",
    "**Advantages**\n",
    "* Maintainability: You only have to maintain a single instance of your functions, instead of copy-pasting it into each notebook\n",
    "* Cleaner notebooks\n",
    "* Reusability: Easy to share your functions with others"
   ]
  }
 ],
 "metadata": {
  "kernelspec": {
   "display_name": "Python 3",
   "language": "python",
   "name": "python3"
  },
  "language_info": {
   "codemirror_mode": {
    "name": "ipython",
    "version": 3
   },
   "file_extension": ".py",
   "mimetype": "text/x-python",
   "name": "python",
   "nbconvert_exporter": "python",
   "pygments_lexer": "ipython3",
   "version": "3.9.5"
  }
 },
 "nbformat": 4,
 "nbformat_minor": 5
}
